{
 "cells": [
  {
   "cell_type": "markdown",
   "metadata": {
    "deletable": false,
    "editable": false,
    "nbgrader": {
     "checksum": "e8da009ad9ac3ca56723ea5e498dee14",
     "grade": false,
     "grade_id": "cell-ed2a5dbb38d52468",
     "locked": true,
     "schema_version": 1,
     "solution": false
    }
   },
   "source": [
    "# Campaña \"Seguro Vivienda\" de compañía financiera"
   ]
  },
  {
   "cell_type": "markdown",
   "metadata": {
    "deletable": false,
    "editable": false,
    "nbgrader": {
     "checksum": "fecd1202cdf3628d395822847eef8cf6",
     "grade": false,
     "grade_id": "cell-38459ea608c74e99",
     "locked": true,
     "schema_version": 1,
     "solution": false
    }
   },
   "source": [
    "Los correos a todos los potenciales clientes de un producto no son una estrategia de marketing efectiva, ya que muchos de ellos no están interesados. Identificando a los más propensos a contratar el producto se podría dirigir la campaña de marketing con mayor precisión y reducir su coste.\n",
    "\n",
    "La compañía financiera ofrece seguros, créditos, etc. y nos proporciona un listado de clientes a los que ha dirigido una campaña de marketing ofreciendo el nuevo producto “Seguro Vivienda”. En el fichero se encuentran los datos de dichos clientes, así como información de otros productos ya contratados y si contrataron el nuevo producto o no. También se dispone de un fichero con información sociodemográfica asociada a diferentes zonas de residencia.\n",
    "\n",
    "Se pide que planifiquemos una campaña más efectiva sobre un segundo conjunto de clientes, para lo que utilizaremos el primer conjunto para construir modelos predictivos que usaremos sobre el segundo conjunto para seleccionar los clientes más propensos a contratar el producto. Una vez seleccionados los candidatos, la compañía les ofrecerá el producto y medirá la eficacia del modelo según la proporción de ellos que lo contratan."
   ]
  },
  {
   "cell_type": "markdown",
   "metadata": {
    "deletable": false,
    "editable": false,
    "nbgrader": {
     "checksum": "9eac7c9cb107c92d571be38c143f71dc",
     "grade": false,
     "grade_id": "cell-282b598909a3dbcc",
     "locked": true,
     "schema_version": 1,
     "solution": false
    }
   },
   "source": [
    "## Conjuntos de datos"
   ]
  },
  {
   "cell_type": "markdown",
   "metadata": {
    "deletable": false,
    "editable": false,
    "nbgrader": {
     "checksum": "2705c3483bf4bead2597fc4ff1e9520a",
     "grade": false,
     "grade_id": "cell-419b51f273275864",
     "locked": true,
     "schema_version": 1,
     "solution": false
    }
   },
   "source": [
    "### Clientes"
   ]
  },
  {
   "cell_type": "markdown",
   "metadata": {
    "deletable": false,
    "editable": false,
    "nbgrader": {
     "checksum": "f20acbc4d387f7e4c80115711ca5eb27",
     "grade": false,
     "grade_id": "cell-d8f6f4d34067395d",
     "locked": true,
     "schema_version": 1,
     "solution": false
    }
   },
   "source": [
    "* ID_Cliente: identificador único del cliente\n",
    "* Fecha_Nacimiento: fecha de nacimiento del cliente\n",
    "* Fecha_Alta: fecha de alta del cliente\n",
    "* Sexo: sexo del cliente\n",
    "* ID_Zona: identificador único de zona de residencia\n",
    "* Productos_X: número de productos contratados por tipo\n",
    "* Gasto_X: gasto anual en los distintos productos\n",
    "* Seguro_Vivienda: el cliente contrató el producto ofrecido o no"
   ]
  },
  {
   "cell_type": "markdown",
   "metadata": {
    "deletable": false,
    "editable": false,
    "nbgrader": {
     "checksum": "518570867ca295fb885b93b1a9396733",
     "grade": false,
     "grade_id": "cell-818cf311a91deaa2",
     "locked": true,
     "schema_version": 1,
     "solution": false
    }
   },
   "source": [
    "### Zonas"
   ]
  },
  {
   "cell_type": "markdown",
   "metadata": {
    "deletable": false,
    "editable": false,
    "nbgrader": {
     "checksum": "03a66b1fad0e5e796a17f500798d87c3",
     "grade": false,
     "grade_id": "cell-d626faf64928537b",
     "locked": true,
     "schema_version": 1,
     "solution": false
    }
   },
   "source": [
    "* ID_Zona: identificador único de zona\n",
    "* Tipo_X: porcentaje de población por tipología familiar\n",
    "* Educacion_X: porcentaje de población por nivel de estudios\n",
    "* Poblacion_X: porcentaje de población por tipo de población\n",
    "* Vivienda_X: porcentaje de población por tipo de vivienda\n",
    "* Medico_X: porcentaje de población por tipo de seguro médico\n",
    "* Ingresos_X: porcentaje de población por nivel de ingresos"
   ]
  },
  {
   "cell_type": "markdown",
   "metadata": {
    "deletable": false,
    "editable": false,
    "nbgrader": {
     "checksum": "b86b14ca77c1642bd034bfe8466c11fa",
     "grade": false,
     "grade_id": "cell-334857c00c04d04a",
     "locked": true,
     "schema_version": 1,
     "solution": false
    }
   },
   "source": [
    "## Cruce de datos"
   ]
  },
  {
   "cell_type": "markdown",
   "metadata": {
    "deletable": false,
    "editable": false,
    "nbgrader": {
     "checksum": "9cf920be15e2d9c61dd142b6dd2fe0a4",
     "grade": false,
     "grade_id": "cell-7fa352c165d7cf4f",
     "locked": true,
     "schema_version": 1,
     "solution": false
    }
   },
   "source": [
    "Primero vamos a cruzar los datos de clientes con los datos de zonas, para tener toda la información en una sola tabla por cada cliente. En el siguiente código, deberás introducir en la variable 'datos_path' la ruta a la carpeta donde se encuentran los ficheros de datos, por ejemplo \"~/Escritorio\" si están en el escritorio."
   ]
  },
  {
   "cell_type": "code",
   "execution_count": 125,
   "metadata": {
    "deletable": false,
    "nbgrader": {
     "checksum": "384535c1d895eee128b7202bcdda49b0",
     "grade": true,
     "grade_id": "cell-b161b955e80c119e",
     "locked": false,
     "points": 0,
     "schema_version": 1,
     "solution": true
    }
   },
   "outputs": [],
   "source": [
    "# El código está en el mismo directorio que los datos, así que no hace falta indicar nada\n",
    "datos_path =\"\"\n",
    "# YOUR CODE HERE\n",
    "#raise NotImplementedError()"
   ]
  },
  {
   "cell_type": "code",
   "execution_count": 126,
   "metadata": {
    "deletable": false,
    "editable": false,
    "nbgrader": {
     "checksum": "fcf2f36b896c1ac32e49f79584514ac9",
     "grade": false,
     "grade_id": "cell-0fc9218bd047292c",
     "locked": true,
     "schema_version": 1,
     "solution": false
    }
   },
   "outputs": [],
   "source": [
    "import pandas as pd\n",
    "import matplotlib.pyplot as plt\n",
    "\n",
    "import os\n",
    "\n",
    "%matplotlib inline\n",
    "\n",
    "clientes_file = \"Clientes_train.csv\"\n",
    "zonas_file = \"Zonas.csv\"\n",
    "\n",
    "clientes = pd.read_csv(os.path.join(datos_path, clientes_file), sep='\\t')\n",
    "zonas = pd.read_csv(os.path.join(datos_path, zonas_file), sep='\\t')\n",
    "\n",
    "datos = pd.merge(clientes, zonas, on=\"ID_Zona\", how=\"inner\")\n",
    "\n",
    "targets = datos[\"Seguro_Vivienda\"]\n",
    "variables = datos.drop([\"Seguro_Vivienda\"], axis=1, inplace=False)"
   ]
  },
  {
   "cell_type": "markdown",
   "metadata": {
    "deletable": false,
    "editable": false,
    "nbgrader": {
     "checksum": "4fd7300c2f5e514f7f1d5a20d256385a",
     "grade": false,
     "grade_id": "cell-2cb90124a03d2782",
     "locked": true,
     "schema_version": 1,
     "solution": false
    }
   },
   "source": [
    "## Estudio de datos"
   ]
  },
  {
   "cell_type": "markdown",
   "metadata": {
    "deletable": false,
    "editable": false,
    "nbgrader": {
     "checksum": "a8a4933a5d19b54fed6a0db2a335ea3a",
     "grade": false,
     "grade_id": "cell-bc84075c3714a532",
     "locked": true,
     "schema_version": 1,
     "solution": false
    }
   },
   "source": [
    "Hacemos un estudio de los datos con el objetivo de comprenderlos y encontrar en ellos posibles anomalías. Empezamos por una inspección visual de una muestra de filas de la tabla:"
   ]
  },
  {
   "cell_type": "code",
   "execution_count": 127,
   "metadata": {
    "deletable": false,
    "editable": false,
    "nbgrader": {
     "checksum": "5f1089a4055eb5b64c168d4d4e86c984",
     "grade": false,
     "grade_id": "cell-8d65790100995403",
     "locked": true,
     "schema_version": 1,
     "solution": false
    }
   },
   "outputs": [
    {
     "data": {
      "text/html": [
       "<div>\n",
       "<style scoped>\n",
       "    .dataframe tbody tr th:only-of-type {\n",
       "        vertical-align: middle;\n",
       "    }\n",
       "\n",
       "    .dataframe tbody tr th {\n",
       "        vertical-align: top;\n",
       "    }\n",
       "\n",
       "    .dataframe thead th {\n",
       "        text-align: right;\n",
       "    }\n",
       "</style>\n",
       "<table border=\"1\" class=\"dataframe\">\n",
       "  <thead>\n",
       "    <tr style=\"text-align: right;\">\n",
       "      <th></th>\n",
       "      <th>ID_Cliente</th>\n",
       "      <th>Fecha_Nacimiento</th>\n",
       "      <th>Fecha_Alta</th>\n",
       "      <th>Sexo</th>\n",
       "      <th>ID_Zona</th>\n",
       "      <th>Productos_Vida</th>\n",
       "      <th>Productos_Vehiculos</th>\n",
       "      <th>Productos_Otros</th>\n",
       "      <th>Gasto_Vida</th>\n",
       "      <th>Gasto_Vehiculos</th>\n",
       "      <th>...</th>\n",
       "      <th>Poblacion_Funcionario</th>\n",
       "      <th>Poblacion_Trabajador_Cualificado</th>\n",
       "      <th>Poblacion_Trabajador_No_Cualificado</th>\n",
       "      <th>Vivienda_Propiedad</th>\n",
       "      <th>Vivienda_Alquiler</th>\n",
       "      <th>Medico_Seguro_Privado</th>\n",
       "      <th>Medico_Seguridad_Social</th>\n",
       "      <th>Ingresos_Mas_De_40000</th>\n",
       "      <th>Ingresos_De_20000_Hasta_40000</th>\n",
       "      <th>Ingresos_Hasta_20000</th>\n",
       "    </tr>\n",
       "  </thead>\n",
       "  <tbody>\n",
       "    <tr>\n",
       "      <th>0</th>\n",
       "      <td>C3088</td>\n",
       "      <td>29/03/1968</td>\n",
       "      <td>27/03/1989</td>\n",
       "      <td>Mujer</td>\n",
       "      <td>Z1143</td>\n",
       "      <td>0</td>\n",
       "      <td>1</td>\n",
       "      <td>0</td>\n",
       "      <td>0.0</td>\n",
       "      <td>617.55</td>\n",
       "      <td>...</td>\n",
       "      <td>28.17</td>\n",
       "      <td>21.01</td>\n",
       "      <td>27.13</td>\n",
       "      <td>71.34</td>\n",
       "      <td>28.66</td>\n",
       "      <td>32.77</td>\n",
       "      <td>67.23</td>\n",
       "      <td>2.23</td>\n",
       "      <td>1.47</td>\n",
       "      <td>96.3</td>\n",
       "    </tr>\n",
       "    <tr>\n",
       "      <th>1</th>\n",
       "      <td>C3441</td>\n",
       "      <td>01/05/1962</td>\n",
       "      <td>26/12/1984</td>\n",
       "      <td>Hombre</td>\n",
       "      <td>Z1143</td>\n",
       "      <td>0</td>\n",
       "      <td>0</td>\n",
       "      <td>0</td>\n",
       "      <td>0.0</td>\n",
       "      <td>0.00</td>\n",
       "      <td>...</td>\n",
       "      <td>28.17</td>\n",
       "      <td>21.01</td>\n",
       "      <td>27.13</td>\n",
       "      <td>71.34</td>\n",
       "      <td>28.66</td>\n",
       "      <td>32.77</td>\n",
       "      <td>67.23</td>\n",
       "      <td>2.23</td>\n",
       "      <td>1.47</td>\n",
       "      <td>96.3</td>\n",
       "    </tr>\n",
       "    <tr>\n",
       "      <th>2</th>\n",
       "      <td>C0412</td>\n",
       "      <td>19/01/1967</td>\n",
       "      <td>29/04/1987</td>\n",
       "      <td>Hombre</td>\n",
       "      <td>Z1143</td>\n",
       "      <td>0</td>\n",
       "      <td>0</td>\n",
       "      <td>1</td>\n",
       "      <td>0.0</td>\n",
       "      <td>0.00</td>\n",
       "      <td>...</td>\n",
       "      <td>28.17</td>\n",
       "      <td>21.01</td>\n",
       "      <td>27.13</td>\n",
       "      <td>71.34</td>\n",
       "      <td>28.66</td>\n",
       "      <td>32.77</td>\n",
       "      <td>67.23</td>\n",
       "      <td>2.23</td>\n",
       "      <td>1.47</td>\n",
       "      <td>96.3</td>\n",
       "    </tr>\n",
       "    <tr>\n",
       "      <th>3</th>\n",
       "      <td>C3565</td>\n",
       "      <td>20/04/1948</td>\n",
       "      <td>06/09/1969</td>\n",
       "      <td>Hombre</td>\n",
       "      <td>Z1143</td>\n",
       "      <td>0</td>\n",
       "      <td>1</td>\n",
       "      <td>0</td>\n",
       "      <td>0.0</td>\n",
       "      <td>3315.54</td>\n",
       "      <td>...</td>\n",
       "      <td>28.17</td>\n",
       "      <td>21.01</td>\n",
       "      <td>27.13</td>\n",
       "      <td>71.34</td>\n",
       "      <td>28.66</td>\n",
       "      <td>32.77</td>\n",
       "      <td>67.23</td>\n",
       "      <td>2.23</td>\n",
       "      <td>1.47</td>\n",
       "      <td>96.3</td>\n",
       "    </tr>\n",
       "    <tr>\n",
       "      <th>4</th>\n",
       "      <td>C0315</td>\n",
       "      <td>28/07/1979</td>\n",
       "      <td>18/06/2001</td>\n",
       "      <td>Mujer</td>\n",
       "      <td>Z1143</td>\n",
       "      <td>0</td>\n",
       "      <td>1</td>\n",
       "      <td>2</td>\n",
       "      <td>0.0</td>\n",
       "      <td>2561.45</td>\n",
       "      <td>...</td>\n",
       "      <td>28.17</td>\n",
       "      <td>21.01</td>\n",
       "      <td>27.13</td>\n",
       "      <td>71.34</td>\n",
       "      <td>28.66</td>\n",
       "      <td>32.77</td>\n",
       "      <td>67.23</td>\n",
       "      <td>2.23</td>\n",
       "      <td>1.47</td>\n",
       "      <td>96.3</td>\n",
       "    </tr>\n",
       "  </tbody>\n",
       "</table>\n",
       "<p>5 rows × 28 columns</p>\n",
       "</div>"
      ],
      "text/plain": [
       "  ID_Cliente Fecha_Nacimiento  Fecha_Alta    Sexo ID_Zona  Productos_Vida  \\\n",
       "0      C3088       29/03/1968  27/03/1989   Mujer   Z1143               0   \n",
       "1      C3441       01/05/1962  26/12/1984  Hombre   Z1143               0   \n",
       "2      C0412       19/01/1967  29/04/1987  Hombre   Z1143               0   \n",
       "3      C3565       20/04/1948  06/09/1969  Hombre   Z1143               0   \n",
       "4      C0315       28/07/1979  18/06/2001   Mujer   Z1143               0   \n",
       "\n",
       "   Productos_Vehiculos  Productos_Otros  Gasto_Vida  Gasto_Vehiculos  ...  \\\n",
       "0                    1                0         0.0           617.55  ...   \n",
       "1                    0                0         0.0             0.00  ...   \n",
       "2                    0                1         0.0             0.00  ...   \n",
       "3                    1                0         0.0          3315.54  ...   \n",
       "4                    1                2         0.0          2561.45  ...   \n",
       "\n",
       "   Poblacion_Funcionario  Poblacion_Trabajador_Cualificado  \\\n",
       "0                  28.17                             21.01   \n",
       "1                  28.17                             21.01   \n",
       "2                  28.17                             21.01   \n",
       "3                  28.17                             21.01   \n",
       "4                  28.17                             21.01   \n",
       "\n",
       "   Poblacion_Trabajador_No_Cualificado  Vivienda_Propiedad  Vivienda_Alquiler  \\\n",
       "0                                27.13               71.34              28.66   \n",
       "1                                27.13               71.34              28.66   \n",
       "2                                27.13               71.34              28.66   \n",
       "3                                27.13               71.34              28.66   \n",
       "4                                27.13               71.34              28.66   \n",
       "\n",
       "   Medico_Seguro_Privado  Medico_Seguridad_Social  Ingresos_Mas_De_40000  \\\n",
       "0                  32.77                    67.23                   2.23   \n",
       "1                  32.77                    67.23                   2.23   \n",
       "2                  32.77                    67.23                   2.23   \n",
       "3                  32.77                    67.23                   2.23   \n",
       "4                  32.77                    67.23                   2.23   \n",
       "\n",
       "   Ingresos_De_20000_Hasta_40000  Ingresos_Hasta_20000  \n",
       "0                           1.47                  96.3  \n",
       "1                           1.47                  96.3  \n",
       "2                           1.47                  96.3  \n",
       "3                           1.47                  96.3  \n",
       "4                           1.47                  96.3  \n",
       "\n",
       "[5 rows x 28 columns]"
      ]
     },
     "execution_count": 127,
     "metadata": {},
     "output_type": "execute_result"
    }
   ],
   "source": [
    "variables.head()"
   ]
  },
  {
   "cell_type": "code",
   "execution_count": 128,
   "metadata": {
    "deletable": false,
    "editable": false,
    "nbgrader": {
     "checksum": "33a4a2409fe80ddf71dd4c2b03918e54",
     "grade": false,
     "grade_id": "cell-6431f8a395042b55",
     "locked": true,
     "schema_version": 1,
     "solution": false
    }
   },
   "outputs": [
    {
     "data": {
      "text/plain": [
       "0    False\n",
       "1    False\n",
       "2    False\n",
       "3    False\n",
       "4    False\n",
       "Name: Seguro_Vivienda, dtype: bool"
      ]
     },
     "execution_count": 128,
     "metadata": {},
     "output_type": "execute_result"
    }
   ],
   "source": [
    "targets.head()"
   ]
  },
  {
   "cell_type": "markdown",
   "metadata": {
    "deletable": false,
    "editable": false,
    "nbgrader": {
     "checksum": "1bbe81327160abb010035dafd11960a0",
     "grade": false,
     "grade_id": "cell-beca2a7771c59184",
     "locked": true,
     "schema_version": 1,
     "solution": false
    }
   },
   "source": [
    " Seguimos con un estudio de estadísticos básicos que nos indiquen el rango de valores de cada variable (columna) numérica:"
   ]
  },
  {
   "cell_type": "code",
   "execution_count": 129,
   "metadata": {
    "deletable": false,
    "editable": false,
    "nbgrader": {
     "checksum": "72eb888bef02cc42bbcdb67aa0dcef9d",
     "grade": false,
     "grade_id": "cell-8ae12b4bf14c7c2b",
     "locked": true,
     "schema_version": 1,
     "solution": false
    },
    "scrolled": true
   },
   "outputs": [
    {
     "data": {
      "text/html": [
       "<div>\n",
       "<style scoped>\n",
       "    .dataframe tbody tr th:only-of-type {\n",
       "        vertical-align: middle;\n",
       "    }\n",
       "\n",
       "    .dataframe tbody tr th {\n",
       "        vertical-align: top;\n",
       "    }\n",
       "\n",
       "    .dataframe thead th {\n",
       "        text-align: right;\n",
       "    }\n",
       "</style>\n",
       "<table border=\"1\" class=\"dataframe\">\n",
       "  <thead>\n",
       "    <tr style=\"text-align: right;\">\n",
       "      <th></th>\n",
       "      <th>Productos_Vida</th>\n",
       "      <th>Productos_Vehiculos</th>\n",
       "      <th>Productos_Otros</th>\n",
       "      <th>Gasto_Vida</th>\n",
       "      <th>Gasto_Vehiculos</th>\n",
       "      <th>Gasto_Otros</th>\n",
       "      <th>Tipo_Familia</th>\n",
       "      <th>Tipo_Pareja</th>\n",
       "      <th>Tipo_Soltero</th>\n",
       "      <th>Educacion_Superior</th>\n",
       "      <th>...</th>\n",
       "      <th>Poblacion_Funcionario</th>\n",
       "      <th>Poblacion_Trabajador_Cualificado</th>\n",
       "      <th>Poblacion_Trabajador_No_Cualificado</th>\n",
       "      <th>Vivienda_Propiedad</th>\n",
       "      <th>Vivienda_Alquiler</th>\n",
       "      <th>Medico_Seguro_Privado</th>\n",
       "      <th>Medico_Seguridad_Social</th>\n",
       "      <th>Ingresos_Mas_De_40000</th>\n",
       "      <th>Ingresos_De_20000_Hasta_40000</th>\n",
       "      <th>Ingresos_Hasta_20000</th>\n",
       "    </tr>\n",
       "  </thead>\n",
       "  <tbody>\n",
       "    <tr>\n",
       "      <th>count</th>\n",
       "      <td>2927.000000</td>\n",
       "      <td>2927.000000</td>\n",
       "      <td>2927.000000</td>\n",
       "      <td>2927.000000</td>\n",
       "      <td>2927.000000</td>\n",
       "      <td>2927.000000</td>\n",
       "      <td>2927.000000</td>\n",
       "      <td>2927.000000</td>\n",
       "      <td>2927.000000</td>\n",
       "      <td>2927.000000</td>\n",
       "      <td>...</td>\n",
       "      <td>2927.000000</td>\n",
       "      <td>2927.000000</td>\n",
       "      <td>2927.000000</td>\n",
       "      <td>2927.000000</td>\n",
       "      <td>2927.000000</td>\n",
       "      <td>2927.000000</td>\n",
       "      <td>2927.000000</td>\n",
       "      <td>2927.000000</td>\n",
       "      <td>2927.000000</td>\n",
       "      <td>2927.000000</td>\n",
       "    </tr>\n",
       "    <tr>\n",
       "      <th>mean</th>\n",
       "      <td>0.080287</td>\n",
       "      <td>0.750940</td>\n",
       "      <td>1.066279</td>\n",
       "      <td>37.133915</td>\n",
       "      <td>1583.312689</td>\n",
       "      <td>273.471145</td>\n",
       "      <td>47.392026</td>\n",
       "      <td>34.010779</td>\n",
       "      <td>18.597458</td>\n",
       "      <td>14.136502</td>\n",
       "      <td>...</td>\n",
       "      <td>29.345565</td>\n",
       "      <td>22.355572</td>\n",
       "      <td>26.771343</td>\n",
       "      <td>54.007017</td>\n",
       "      <td>45.992983</td>\n",
       "      <td>27.863485</td>\n",
       "      <td>72.136515</td>\n",
       "      <td>1.449713</td>\n",
       "      <td>6.700150</td>\n",
       "      <td>91.850126</td>\n",
       "    </tr>\n",
       "    <tr>\n",
       "      <th>std</th>\n",
       "      <td>0.365148</td>\n",
       "      <td>0.795887</td>\n",
       "      <td>1.001220</td>\n",
       "      <td>289.125502</td>\n",
       "      <td>2008.636888</td>\n",
       "      <td>741.281246</td>\n",
       "      <td>24.955844</td>\n",
       "      <td>20.001426</td>\n",
       "      <td>20.498031</td>\n",
       "      <td>18.661422</td>\n",
       "      <td>...</td>\n",
       "      <td>21.739949</td>\n",
       "      <td>20.322406</td>\n",
       "      <td>21.439939</td>\n",
       "      <td>37.375465</td>\n",
       "      <td>37.375465</td>\n",
       "      <td>24.390093</td>\n",
       "      <td>24.390093</td>\n",
       "      <td>5.362351</td>\n",
       "      <td>12.187754</td>\n",
       "      <td>14.078293</td>\n",
       "    </tr>\n",
       "    <tr>\n",
       "      <th>min</th>\n",
       "      <td>0.000000</td>\n",
       "      <td>0.000000</td>\n",
       "      <td>0.000000</td>\n",
       "      <td>0.000000</td>\n",
       "      <td>0.000000</td>\n",
       "      <td>0.000000</td>\n",
       "      <td>0.000000</td>\n",
       "      <td>0.000000</td>\n",
       "      <td>0.000000</td>\n",
       "      <td>0.000000</td>\n",
       "      <td>...</td>\n",
       "      <td>0.000000</td>\n",
       "      <td>0.000000</td>\n",
       "      <td>0.000000</td>\n",
       "      <td>0.000000</td>\n",
       "      <td>0.000000</td>\n",
       "      <td>0.000000</td>\n",
       "      <td>0.000000</td>\n",
       "      <td>0.000000</td>\n",
       "      <td>0.000000</td>\n",
       "      <td>0.000000</td>\n",
       "    </tr>\n",
       "    <tr>\n",
       "      <th>25%</th>\n",
       "      <td>0.000000</td>\n",
       "      <td>0.000000</td>\n",
       "      <td>0.000000</td>\n",
       "      <td>0.000000</td>\n",
       "      <td>0.000000</td>\n",
       "      <td>0.000000</td>\n",
       "      <td>29.410000</td>\n",
       "      <td>19.980000</td>\n",
       "      <td>0.000000</td>\n",
       "      <td>0.000000</td>\n",
       "      <td>...</td>\n",
       "      <td>15.230000</td>\n",
       "      <td>3.880000</td>\n",
       "      <td>9.420000</td>\n",
       "      <td>14.900000</td>\n",
       "      <td>8.175000</td>\n",
       "      <td>7.275000</td>\n",
       "      <td>56.530000</td>\n",
       "      <td>0.000000</td>\n",
       "      <td>0.000000</td>\n",
       "      <td>90.120000</td>\n",
       "    </tr>\n",
       "    <tr>\n",
       "      <th>50%</th>\n",
       "      <td>0.000000</td>\n",
       "      <td>1.000000</td>\n",
       "      <td>1.000000</td>\n",
       "      <td>0.000000</td>\n",
       "      <td>649.610000</td>\n",
       "      <td>117.630000</td>\n",
       "      <td>48.180000</td>\n",
       "      <td>32.140000</td>\n",
       "      <td>14.350000</td>\n",
       "      <td>6.440000</td>\n",
       "      <td>...</td>\n",
       "      <td>27.480000</td>\n",
       "      <td>19.550000</td>\n",
       "      <td>22.220000</td>\n",
       "      <td>58.410000</td>\n",
       "      <td>41.590000</td>\n",
       "      <td>20.570000</td>\n",
       "      <td>79.430000</td>\n",
       "      <td>0.000000</td>\n",
       "      <td>0.000000</td>\n",
       "      <td>99.990000</td>\n",
       "    </tr>\n",
       "    <tr>\n",
       "      <th>75%</th>\n",
       "      <td>0.000000</td>\n",
       "      <td>1.000000</td>\n",
       "      <td>2.000000</td>\n",
       "      <td>0.000000</td>\n",
       "      <td>2948.910000</td>\n",
       "      <td>303.705000</td>\n",
       "      <td>65.450000</td>\n",
       "      <td>44.705000</td>\n",
       "      <td>30.530000</td>\n",
       "      <td>20.700000</td>\n",
       "      <td>...</td>\n",
       "      <td>41.150000</td>\n",
       "      <td>33.700000</td>\n",
       "      <td>41.020000</td>\n",
       "      <td>91.825000</td>\n",
       "      <td>85.100000</td>\n",
       "      <td>43.470000</td>\n",
       "      <td>92.725000</td>\n",
       "      <td>0.000000</td>\n",
       "      <td>8.325000</td>\n",
       "      <td>100.000000</td>\n",
       "    </tr>\n",
       "    <tr>\n",
       "      <th>max</th>\n",
       "      <td>4.000000</td>\n",
       "      <td>10.000000</td>\n",
       "      <td>7.000000</td>\n",
       "      <td>4934.590000</td>\n",
       "      <td>16735.670000</td>\n",
       "      <td>17188.620000</td>\n",
       "      <td>100.000000</td>\n",
       "      <td>100.000000</td>\n",
       "      <td>100.000000</td>\n",
       "      <td>100.000000</td>\n",
       "      <td>...</td>\n",
       "      <td>100.000000</td>\n",
       "      <td>100.000000</td>\n",
       "      <td>100.000000</td>\n",
       "      <td>100.000000</td>\n",
       "      <td>100.000000</td>\n",
       "      <td>100.000000</td>\n",
       "      <td>100.000000</td>\n",
       "      <td>100.000000</td>\n",
       "      <td>100.000000</td>\n",
       "      <td>100.010000</td>\n",
       "    </tr>\n",
       "  </tbody>\n",
       "</table>\n",
       "<p>8 rows × 23 columns</p>\n",
       "</div>"
      ],
      "text/plain": [
       "       Productos_Vida  Productos_Vehiculos  Productos_Otros   Gasto_Vida  \\\n",
       "count     2927.000000          2927.000000      2927.000000  2927.000000   \n",
       "mean         0.080287             0.750940         1.066279    37.133915   \n",
       "std          0.365148             0.795887         1.001220   289.125502   \n",
       "min          0.000000             0.000000         0.000000     0.000000   \n",
       "25%          0.000000             0.000000         0.000000     0.000000   \n",
       "50%          0.000000             1.000000         1.000000     0.000000   \n",
       "75%          0.000000             1.000000         2.000000     0.000000   \n",
       "max          4.000000            10.000000         7.000000  4934.590000   \n",
       "\n",
       "       Gasto_Vehiculos   Gasto_Otros  Tipo_Familia  Tipo_Pareja  Tipo_Soltero  \\\n",
       "count      2927.000000   2927.000000   2927.000000  2927.000000   2927.000000   \n",
       "mean       1583.312689    273.471145     47.392026    34.010779     18.597458   \n",
       "std        2008.636888    741.281246     24.955844    20.001426     20.498031   \n",
       "min           0.000000      0.000000      0.000000     0.000000      0.000000   \n",
       "25%           0.000000      0.000000     29.410000    19.980000      0.000000   \n",
       "50%         649.610000    117.630000     48.180000    32.140000     14.350000   \n",
       "75%        2948.910000    303.705000     65.450000    44.705000     30.530000   \n",
       "max       16735.670000  17188.620000    100.000000   100.000000    100.000000   \n",
       "\n",
       "       Educacion_Superior  ...  Poblacion_Funcionario  \\\n",
       "count         2927.000000  ...            2927.000000   \n",
       "mean            14.136502  ...              29.345565   \n",
       "std             18.661422  ...              21.739949   \n",
       "min              0.000000  ...               0.000000   \n",
       "25%              0.000000  ...              15.230000   \n",
       "50%              6.440000  ...              27.480000   \n",
       "75%             20.700000  ...              41.150000   \n",
       "max            100.000000  ...             100.000000   \n",
       "\n",
       "       Poblacion_Trabajador_Cualificado  Poblacion_Trabajador_No_Cualificado  \\\n",
       "count                       2927.000000                          2927.000000   \n",
       "mean                          22.355572                            26.771343   \n",
       "std                           20.322406                            21.439939   \n",
       "min                            0.000000                             0.000000   \n",
       "25%                            3.880000                             9.420000   \n",
       "50%                           19.550000                            22.220000   \n",
       "75%                           33.700000                            41.020000   \n",
       "max                          100.000000                           100.000000   \n",
       "\n",
       "       Vivienda_Propiedad  Vivienda_Alquiler  Medico_Seguro_Privado  \\\n",
       "count         2927.000000        2927.000000            2927.000000   \n",
       "mean            54.007017          45.992983              27.863485   \n",
       "std             37.375465          37.375465              24.390093   \n",
       "min              0.000000           0.000000               0.000000   \n",
       "25%             14.900000           8.175000               7.275000   \n",
       "50%             58.410000          41.590000              20.570000   \n",
       "75%             91.825000          85.100000              43.470000   \n",
       "max            100.000000         100.000000             100.000000   \n",
       "\n",
       "       Medico_Seguridad_Social  Ingresos_Mas_De_40000  \\\n",
       "count              2927.000000            2927.000000   \n",
       "mean                 72.136515               1.449713   \n",
       "std                  24.390093               5.362351   \n",
       "min                   0.000000               0.000000   \n",
       "25%                  56.530000               0.000000   \n",
       "50%                  79.430000               0.000000   \n",
       "75%                  92.725000               0.000000   \n",
       "max                 100.000000             100.000000   \n",
       "\n",
       "       Ingresos_De_20000_Hasta_40000  Ingresos_Hasta_20000  \n",
       "count                    2927.000000           2927.000000  \n",
       "mean                        6.700150             91.850126  \n",
       "std                        12.187754             14.078293  \n",
       "min                         0.000000              0.000000  \n",
       "25%                         0.000000             90.120000  \n",
       "50%                         0.000000             99.990000  \n",
       "75%                         8.325000            100.000000  \n",
       "max                       100.000000            100.010000  \n",
       "\n",
       "[8 rows x 23 columns]"
      ]
     },
     "execution_count": 129,
     "metadata": {},
     "output_type": "execute_result"
    }
   ],
   "source": [
    "variables.describe()"
   ]
  },
  {
   "cell_type": "code",
   "execution_count": 130,
   "metadata": {
    "deletable": false,
    "editable": false,
    "nbgrader": {
     "checksum": "04254ea0e7214e5bb58a94f41c0691e2",
     "grade": false,
     "grade_id": "cell-e2a28cf0766d791a",
     "locked": true,
     "schema_version": 1,
     "solution": false
    }
   },
   "outputs": [
    {
     "data": {
      "text/plain": [
       "count      2927\n",
       "unique        2\n",
       "top       False\n",
       "freq       2762\n",
       "Name: Seguro_Vivienda, dtype: object"
      ]
     },
     "execution_count": 130,
     "metadata": {},
     "output_type": "execute_result"
    }
   ],
   "source": [
    "targets.describe()"
   ]
  },
  {
   "cell_type": "markdown",
   "metadata": {
    "deletable": false,
    "editable": false,
    "nbgrader": {
     "checksum": "136c922ae20c5e0e2a7bd4decbbb2d93",
     "grade": false,
     "grade_id": "cell-0c2e40210fb4999c",
     "locked": true,
     "schema_version": 1,
     "solution": false
    }
   },
   "source": [
    "Podemos obtener detalles adicionales de cada variable individualmente:"
   ]
  },
  {
   "cell_type": "code",
   "execution_count": 131,
   "metadata": {
    "deletable": false,
    "editable": false,
    "nbgrader": {
     "checksum": "bca8ff5972a7d5a0c3a852620fb278f6",
     "grade": false,
     "grade_id": "cell-260778b99845f0af",
     "locked": true,
     "schema_version": 1,
     "solution": false
    }
   },
   "outputs": [
    {
     "data": {
      "text/plain": [
       "649.61"
      ]
     },
     "execution_count": 131,
     "metadata": {},
     "output_type": "execute_result"
    }
   ],
   "source": [
    "variables[\"Gasto_Vehiculos\"].median()"
   ]
  },
  {
   "cell_type": "code",
   "execution_count": 132,
   "metadata": {
    "deletable": false,
    "editable": false,
    "nbgrader": {
     "checksum": "0fb1c74da931ef327abf98534cee07ca",
     "grade": false,
     "grade_id": "cell-564826376e9a65ea",
     "locked": true,
     "schema_version": 1,
     "solution": false
    }
   },
   "outputs": [
    {
     "data": {
      "image/png": "[encoded data removed]",
      "text/plain": [
       "<Figure size 432x288 with 1 Axes>"
      ]
     },
     "metadata": {
      "needs_background": "light"
     },
     "output_type": "display_data"
    }
   ],
   "source": [
    "fig = plt.figure()\n",
    "ax = fig.add_subplot(111)\n",
    "ax.hist(datos[\"Gasto_Vehiculos\"], bins = 10, range = (datos[\"Gasto_Vehiculos\"].min(), datos[\"Gasto_Vehiculos\"].max()))\n",
    "plt.title(\"Gasto Vehiculos\")\n",
    "plt.xlabel(\"Gasto Vehiculos\")\n",
    "plt.ylabel(\"Euros\")\n",
    "plt.show()"
   ]
  },
  {
   "cell_type": "code",
   "execution_count": 133,
   "metadata": {
    "deletable": false,
    "editable": false,
    "nbgrader": {
     "checksum": "4d55cd066587273c0500513d54af6130",
     "grade": false,
     "grade_id": "cell-e2b34c113f71b4b8",
     "locked": true,
     "schema_version": 1,
     "solution": false
    }
   },
   "outputs": [
    {
     "data": {
      "image/png": "[encoded data removed]",
      "text/plain": [
       "<Figure size 432x288 with 1 Axes>"
      ]
     },
     "metadata": {
      "needs_background": "light"
     },
     "output_type": "display_data"
    }
   ],
   "source": [
    "variables.boxplot(column=\"Gasto_Vehiculos\")\n",
    "plt.show()"
   ]
  },
  {
   "cell_type": "markdown",
   "metadata": {
    "deletable": false,
    "editable": false,
    "nbgrader": {
     "checksum": "1a3b6ab4117d25ac23aaa640d292bcfd",
     "grade": false,
     "grade_id": "cell-be2f154e1bd4df4e",
     "locked": true,
     "schema_version": 1,
     "solution": false
    }
   },
   "source": [
    "También podemos obtener información de variables categóricas:"
   ]
  },
  {
   "cell_type": "code",
   "execution_count": 134,
   "metadata": {
    "deletable": false,
    "editable": false,
    "nbgrader": {
     "checksum": "0b60b82f9811fe9c5c6bf214b65d0bcc",
     "grade": false,
     "grade_id": "cell-aa75c3e2ac1fc404",
     "locked": true,
     "schema_version": 1,
     "solution": false
    }
   },
   "outputs": [
    {
     "data": {
      "text/plain": [
       "array(['Mujer', 'Hombre'], dtype=object)"
      ]
     },
     "execution_count": 134,
     "metadata": {},
     "output_type": "execute_result"
    }
   ],
   "source": [
    "variables[\"Sexo\"].unique()"
   ]
  },
  {
   "cell_type": "code",
   "execution_count": 135,
   "metadata": {
    "deletable": false,
    "editable": false,
    "nbgrader": {
     "checksum": "5056772e531eeaf94b8ce7e26927d468",
     "grade": false,
     "grade_id": "cell-61a66c0f924d39da",
     "locked": true,
     "schema_version": 1,
     "solution": false
    }
   },
   "outputs": [
    {
     "data": {
      "image/png": "[encoded data removed]",
      "text/plain": [
       "<Figure size 432x288 with 1 Axes>"
      ]
     },
     "metadata": {
      "needs_background": "light"
     },
     "output_type": "display_data"
    }
   ],
   "source": [
    "ax = variables[\"Sexo\"].value_counts().plot(kind=\"bar\")\n",
    "plt.title(\"Sexo\")\n",
    "plt.xlabel(\"Sexo\")\n",
    "plt.ylabel(\"Casos\")\n",
    "plt.show()"
   ]
  },
  {
   "cell_type": "code",
   "execution_count": 136,
   "metadata": {
    "deletable": false,
    "editable": false,
    "nbgrader": {
     "checksum": "067283520557fbe1ec1ca7e8de6c588a",
     "grade": false,
     "grade_id": "cell-1e4541b22a596733",
     "locked": true,
     "schema_version": 1,
     "solution": false
    }
   },
   "outputs": [
    {
     "data": {
      "text/plain": [
       "<AxesSubplot:xlabel='Sexo'>"
      ]
     },
     "execution_count": 136,
     "metadata": {},
     "output_type": "execute_result"
    },
    {
     "data": {
      "image/png": "[encoded data removed]",
      "text/plain": [
       "<Figure size 432x288 with 1 Axes>"
      ]
     },
     "metadata": {
      "needs_background": "light"
     },
     "output_type": "display_data"
    }
   ],
   "source": [
    "tmp = pd.crosstab([datos.Sexo], datos.Seguro_Vivienda)\n",
    "tmp.plot(kind='bar', stacked=True, color=['red','blue'], grid=False)"
   ]
  },
  {
   "cell_type": "code",
   "execution_count": 137,
   "metadata": {
    "deletable": false,
    "editable": false,
    "nbgrader": {
     "checksum": "d62d1ffbbeffde23a65dd59e6fd25fda",
     "grade": false,
     "grade_id": "cell-491c5db5edf8ee41",
     "locked": true,
     "schema_version": 1,
     "solution": false
    }
   },
   "outputs": [
    {
     "name": "stdout",
     "output_type": "stream",
     "text": [
      "<class 'pandas.core.frame.DataFrame'>\n",
      "Int64Index: 2927 entries, 0 to 2926\n",
      "Data columns (total 28 columns):\n",
      " #   Column                               Non-Null Count  Dtype  \n",
      "---  ------                               --------------  -----  \n",
      " 0   ID_Cliente                           2927 non-null   object \n",
      " 1   Fecha_Nacimiento                     2927 non-null   object \n",
      " 2   Fecha_Alta                           2927 non-null   object \n",
      " 3   Sexo                                 2927 non-null   object \n",
      " 4   ID_Zona                              2927 non-null   object \n",
      " 5   Productos_Vida                       2927 non-null   int64  \n",
      " 6   Productos_Vehiculos                  2927 non-null   int64  \n",
      " 7   Productos_Otros                      2927 non-null   int64  \n",
      " 8   Gasto_Vida                           2927 non-null   float64\n",
      " 9   Gasto_Vehiculos                      2927 non-null   float64\n",
      " 10  Gasto_Otros                          2927 non-null   float64\n",
      " 11  Tipo_Familia                         2927 non-null   float64\n",
      " 12  Tipo_Pareja                          2927 non-null   float64\n",
      " 13  Tipo_Soltero                         2927 non-null   float64\n",
      " 14  Educacion_Superior                   2927 non-null   float64\n",
      " 15  Educacion_Media                      2927 non-null   float64\n",
      " 16  Educacion_Baja                       2927 non-null   float64\n",
      " 17  Poblacion_Empresario                 2927 non-null   float64\n",
      " 18  Poblacion_Funcionario                2927 non-null   float64\n",
      " 19  Poblacion_Trabajador_Cualificado     2927 non-null   float64\n",
      " 20  Poblacion_Trabajador_No_Cualificado  2927 non-null   float64\n",
      " 21  Vivienda_Propiedad                   2927 non-null   float64\n",
      " 22  Vivienda_Alquiler                    2927 non-null   float64\n",
      " 23  Medico_Seguro_Privado                2927 non-null   float64\n",
      " 24  Medico_Seguridad_Social              2927 non-null   float64\n",
      " 25  Ingresos_Mas_De_40000                2927 non-null   float64\n",
      " 26  Ingresos_De_20000_Hasta_40000        2927 non-null   float64\n",
      " 27  Ingresos_Hasta_20000                 2927 non-null   float64\n",
      "dtypes: float64(20), int64(3), object(5)\n",
      "memory usage: 663.1+ KB\n"
     ]
    }
   ],
   "source": [
    "variables.info()"
   ]
  },
  {
   "cell_type": "markdown",
   "metadata": {
    "deletable": false,
    "editable": false,
    "nbgrader": {
     "checksum": "cf200f0d416f79a41d03d90f60aabf45",
     "grade": false,
     "grade_id": "cell-fe8c7ee1289a7cc0",
     "locked": true,
     "schema_version": 1,
     "solution": false
    }
   },
   "source": [
    "## Selección de variables"
   ]
  },
  {
   "cell_type": "markdown",
   "metadata": {
    "deletable": false,
    "editable": false,
    "nbgrader": {
     "checksum": "9c48d83d5e1bd8748d6d2b0fbc18bc41",
     "grade": false,
     "grade_id": "cell-e8485aa1ddbbc8e3",
     "locked": true,
     "schema_version": 1,
     "solution": false
    }
   },
   "source": [
    "Hay diversos métodos que nos permiten identificar las mejores variables para resolver nuestro problema. Scikit permite identificar las mejores variables según diversos tests estadísticos, aunque para algunos de ellos debemos utilizar sólo las variables numéricas:"
   ]
  },
  {
   "cell_type": "code",
   "execution_count": 138,
   "metadata": {
    "deletable": false,
    "editable": false,
    "nbgrader": {
     "checksum": "273546a1a9010f4d995b42b658be6d0a",
     "grade": false,
     "grade_id": "cell-472dcf08e5b52f04",
     "locked": true,
     "schema_version": 1,
     "solution": false
    }
   },
   "outputs": [
    {
     "name": "stdout",
     "output_type": "stream",
     "text": [
      "Gasto_Vida\n",
      "Gasto_Vehiculos\n",
      "Gasto_Otros\n",
      "Educacion_Superior\n",
      "Educacion_Baja\n",
      "Poblacion_Empresario\n",
      "Poblacion_Trabajador_No_Cualificado\n",
      "Vivienda_Propiedad\n",
      "Vivienda_Alquiler\n",
      "Medico_Seguro_Privado\n"
     ]
    }
   ],
   "source": [
    "from sklearn.feature_selection import SelectKBest\n",
    "from sklearn.feature_selection import chi2\n",
    "\n",
    "chi2 = SelectKBest(chi2, k=10).fit(variables._get_numeric_data(), targets)\n",
    "for (col, sel) in zip(variables._get_numeric_data().columns.values, chi2.get_support()):\n",
    "    if sel:\n",
    "        print(col)\n",
    "seleccion = chi2.transform(variables._get_numeric_data())"
   ]
  },
  {
   "cell_type": "markdown",
   "metadata": {
    "deletable": false,
    "editable": false,
    "nbgrader": {
     "checksum": "bdc96397d93f9799f168710dd3f387d1",
     "grade": false,
     "grade_id": "cell-148ab3eee6a2d674",
     "locked": true,
     "schema_version": 1,
     "solution": false
    }
   },
   "source": [
    "Veamos cómo queda representada una muestra del dataset respecto de las dos mejores variables:"
   ]
  },
  {
   "cell_type": "code",
   "execution_count": 139,
   "metadata": {
    "deletable": false,
    "editable": false,
    "nbgrader": {
     "checksum": "ab84952e817586af47696b31470a8154",
     "grade": false,
     "grade_id": "cell-a7f665e370ea2906",
     "locked": true,
     "schema_version": 1,
     "solution": false
    }
   },
   "outputs": [
    {
     "data": {
      "image/png": "[encoded data removed]",
      "text/plain": [
       "<Figure size 432x288 with 1 Axes>"
      ]
     },
     "metadata": {
      "needs_background": "light"
     },
     "output_type": "display_data"
    }
   ],
   "source": [
    "import matplotlib.pyplot as plt\n",
    "from matplotlib.colors import ListedColormap\n",
    "\n",
    "cm = plt.cm.RdBu\n",
    "cm_bright = ListedColormap(['#FF0000', '#0000FF'])\n",
    "plt.scatter(seleccion[1:200, 0], seleccion[1:200, 1], c=targets[1:200], cmap=cm_bright)\n",
    "plt.show()"
   ]
  },
  {
   "cell_type": "markdown",
   "metadata": {
    "deletable": false,
    "editable": false,
    "nbgrader": {
     "checksum": "89190c7363bdfd2e069e1c6c0d79af0f",
     "grade": false,
     "grade_id": "cell-f828aa7bb39ae567",
     "locked": true,
     "schema_version": 1,
     "solution": false
    }
   },
   "source": [
    "Se puede ver cómo al representar las muestras respecto de estas dos variables, los casos de clientes que han contratado el producto se distinguen más fácilmente, ya que tienden a tener un valor alto en una de ellas (puntos azules). Por tanto, estas variables parecen ser buenas a la hora de distinguir casos positivos y negativos.\n",
    "\n",
    "Cuando el proceso de modelización es costoso, reducir el número de variables puede ser de gran ayuda. Las técnicas de selección de variables se usan ampliamente en los procesos de análisis de datos y modelización."
   ]
  },
  {
   "cell_type": "markdown",
   "metadata": {
    "deletable": false,
    "editable": false,
    "nbgrader": {
     "checksum": "d5f9ee2f44fc96ca0235b746094f5469",
     "grade": false,
     "grade_id": "cell-814f662dab59e9de",
     "locked": true,
     "schema_version": 1,
     "solution": false
    }
   },
   "source": [
    "## Transformación de variables"
   ]
  },
  {
   "cell_type": "markdown",
   "metadata": {
    "deletable": false,
    "editable": false,
    "nbgrader": {
     "checksum": "b6ff4f4d71e2ee5defa8e196797929e7",
     "grade": false,
     "grade_id": "cell-b83b1134327c3db6",
     "locked": true,
     "schema_version": 1,
     "solution": false
    }
   },
   "source": [
    "Es posible también realizar una transformación de variables, obteniendo combinaciones, normalmente lineales, de las variables originales que nos den mejores resultados al introducirlas en los modelos predictivos. SVD, PCA o ICA son algunos ejemplos:"
   ]
  },
  {
   "cell_type": "code",
   "execution_count": 140,
   "metadata": {
    "deletable": false,
    "editable": false,
    "nbgrader": {
     "checksum": "2db51d3b5d66ab7ca5a7fc5bf18a5f49",
     "grade": false,
     "grade_id": "cell-713ea20a9df86165",
     "locked": true,
     "schema_version": 1,
     "solution": false
    }
   },
   "outputs": [
    {
     "name": "stdout",
     "output_type": "stream",
     "text": [
      "[[ 1.13272484e-05  2.49947982e-04  7.73521138e-05  3.07643903e-03\n",
      "   9.98926227e-01  4.61104027e-02  4.83515690e-04  9.64832896e-05\n",
      "  -5.79992186e-04  4.74753804e-04 -3.82916687e-05 -4.36431988e-04\n",
      "   7.76395166e-04 -1.67202699e-04 -4.09448513e-04 -1.99807434e-04\n",
      "   1.92596102e-03 -1.92596102e-03  8.38968477e-04 -8.38968477e-04\n",
      "   1.45851838e-06  1.21989814e-04 -1.23418552e-04]\n",
      " [ 2.29104271e-05  9.00357437e-05  4.87987707e-04  1.41580431e-02\n",
      "  -4.61751332e-02  9.98791715e-01  5.98078053e-05  7.42107667e-04\n",
      "  -8.02017454e-04 -3.99451289e-04  1.67935439e-04  2.31606373e-04\n",
      "   1.51812400e-03 -1.35632862e-03 -8.08457612e-04  6.46470913e-04\n",
      "   5.99488232e-03 -5.99488232e-03  1.36589999e-03 -1.36589999e-03\n",
      "  -3.22428480e-05 -3.69649764e-05  6.92457105e-05]\n",
      " [ 5.40217286e-04 -2.46878994e-05  1.66385989e-04  9.99876166e-01\n",
      "  -2.43492037e-03 -1.43238167e-02  2.16244726e-03 -2.04578733e-05\n",
      "  -2.14247137e-03  4.83553780e-04  1.64118780e-03 -2.12421051e-03\n",
      "   9.03270170e-04  5.64289594e-04 -6.95432253e-04 -7.71874125e-04\n",
      "   2.71853936e-03 -2.71853936e-03  1.09316649e-03 -1.09316649e-03\n",
      "  -2.92763450e-04  6.78606701e-05  2.24909406e-04]\n",
      " [-4.21153229e-05 -1.66706942e-04  3.44716888e-04 -5.38522141e-03\n",
      "  -2.80300277e-03 -7.79738186e-03  8.79914308e-02  3.76127781e-02\n",
      "  -1.25604889e-01  1.63012431e-01  1.03806838e-01 -2.66821378e-01\n",
      "   2.31111002e-01  1.89064169e-02 -1.17689046e-01 -1.32323724e-01\n",
      "   5.52873786e-01 -5.52873786e-01  2.77117553e-01 -2.77117553e-01\n",
      "   2.28121541e-02  7.68800359e-02 -9.96882651e-02]\n",
      " [ 1.90443137e-04 -6.52003585e-04  4.49878477e-04  2.84729363e-04\n",
      "   4.21667199e-04  3.60884194e-03 -2.65406555e-01  1.18503651e-01\n",
      "   1.46900439e-01  1.90430375e-01  2.69360349e-01 -4.59786886e-01\n",
      "   2.25552682e-01  1.51189484e-01 -2.47454645e-01 -1.29286909e-01\n",
      "  -3.66702620e-01  3.66702620e-01  2.71852824e-01 -2.71852824e-01\n",
      "   1.26398913e-02  4.38294757e-02 -5.64654460e-02]\n",
      " [ 4.54899802e-04 -3.13229007e-04  2.79803439e-04 -1.93337304e-03\n",
      "   2.78610352e-04  1.43364634e-03  2.22532406e-01 -1.04313286e-01\n",
      "  -1.18214634e-01 -1.35681609e-01  4.37900003e-01 -3.02217590e-01\n",
      "  -2.86794331e-01  5.54672836e-01 -3.23442836e-02 -2.35531085e-01\n",
      "   5.10731064e-02 -5.10731064e-02 -2.87584805e-01  2.87584805e-01\n",
      "  -1.38515711e-02 -5.12451222e-02  6.50910731e-02]\n",
      " [ 5.23982370e-05 -3.76708352e-05 -3.84776650e-04 -1.41099604e-03\n",
      "  -2.04444050e-04  2.04953914e-03  7.17517472e-01 -4.19247403e-01\n",
      "  -2.98274686e-01  1.02377869e-01 -7.63906838e-02 -2.59834501e-02\n",
      "   9.95173622e-02 -8.64220728e-02  6.35257743e-02 -7.66147538e-02\n",
      "  -2.18404391e-01  2.18404391e-01  1.87371181e-01 -1.87371181e-01\n",
      "   1.32705234e-02  6.50402946e-02 -7.83145447e-02]\n",
      " [-3.72661379e-05 -1.14968299e-03  4.19476543e-04  1.47943539e-04\n",
      "   4.20993330e-05  1.13046641e-03 -8.49783415e-02  3.10018703e-01\n",
      "  -2.25033882e-01  1.41267555e-01 -1.67147620e-01  2.58689488e-02\n",
      "   2.23143320e-01 -1.82390612e-02  4.87293424e-01 -6.92215835e-01\n",
      "  -5.71704459e-02  5.71704459e-02 -1.05999909e-01  1.05999909e-01\n",
      "   5.32672192e-03  2.61911272e-02 -3.15199362e-02]\n",
      " [-4.10592962e-04 -1.74854885e-03  2.15384057e-03  1.13125175e-03\n",
      "   8.78754556e-05  5.71550983e-04 -6.28284251e-02 -5.88639594e-01\n",
      "   6.51472642e-01  2.25401772e-01 -1.63071027e-01 -6.23341685e-02\n",
      "   1.59048387e-01  2.94004418e-02  6.84206607e-02 -2.56881322e-01\n",
      "   7.48130887e-02 -7.48130887e-02 -1.33664340e-01  1.33664340e-01\n",
      "   3.74624064e-03  3.99396240e-03 -7.73288160e-03]\n",
      " [-4.41563753e-05 -1.95020442e-04 -4.01863894e-04  6.24994353e-04\n",
      "  -1.97262928e-05  1.99857334e-04 -7.49324224e-02 -4.63682215e-02\n",
      "   1.21318779e-01 -2.06109809e-01 -1.99383139e-01  4.05501522e-01\n",
      "  -2.93319807e-01  5.19117264e-01  2.15373006e-02 -2.47328124e-01\n",
      "   2.52356615e-03 -2.52356615e-03  3.93952352e-01 -3.93952352e-01\n",
      "  -4.49430174e-03 -3.81000906e-02  4.25923100e-02]]\n",
      "[8.64261511e-01 1.15928367e-01 1.78463489e-02 7.59291675e-04\n",
      " 3.66743306e-04 1.86052863e-04 1.74530908e-04 1.11696163e-04\n",
      " 9.86811505e-05 8.42543077e-05]\n"
     ]
    }
   ],
   "source": [
    "from sklearn.decomposition import PCA\n",
    "\n",
    "pca = PCA(n_components=10)\n",
    "pca.fit(variables._get_numeric_data())\n",
    "print(pca.components_)\n",
    "print(pca.explained_variance_ratio_)\n",
    "transformacion = pca.transform(variables._get_numeric_data())"
   ]
  },
  {
   "cell_type": "markdown",
   "metadata": {
    "deletable": false,
    "editable": false,
    "nbgrader": {
     "checksum": "33bb19a098625607c684167d0e7fce35",
     "grade": false,
     "grade_id": "cell-ce750501d5c3a459",
     "locked": true,
     "schema_version": 1,
     "solution": false
    }
   },
   "source": [
    "Veamos cómo queda representada una muestra del dataset respecto de las dos mejores variables sintéticas:"
   ]
  },
  {
   "cell_type": "code",
   "execution_count": 141,
   "metadata": {
    "deletable": false,
    "editable": false,
    "nbgrader": {
     "checksum": "40076e765768dd917fa47c73ee89346b",
     "grade": false,
     "grade_id": "cell-308e5c9af16146f8",
     "locked": true,
     "schema_version": 1,
     "solution": false
    }
   },
   "outputs": [
    {
     "data": {
      "image/png": "[encoded data removed]",
      "text/plain": [
       "<Figure size 432x288 with 1 Axes>"
      ]
     },
     "metadata": {
      "needs_background": "light"
     },
     "output_type": "display_data"
    }
   ],
   "source": [
    "cm = plt.cm.RdBu\n",
    "cm_bright = ListedColormap(['#FF0000', '#0000FF'])\n",
    "plt.scatter(transformacion[1:200, 0], transformacion[1:200, 1], c=targets[1:200], cmap=cm_bright)\n",
    "plt.show()"
   ]
  },
  {
   "cell_type": "markdown",
   "metadata": {
    "deletable": false,
    "editable": false,
    "nbgrader": {
     "checksum": "8a7995a53d0e32e834a7ec32a28949ce",
     "grade": false,
     "grade_id": "cell-b71f14f505362d49",
     "locked": true,
     "schema_version": 1,
     "solution": false
    }
   },
   "source": [
    "Como en el caso anterior, se puede ver que los casos positivos se pueden separar más fácilmente de los negativos al quedar la mayoría de ellos a la derecha de la gráfica.\n",
    "\n",
    "Es habitual que las variables sintéticas generadas con métodos como PCA sean incluso mejores que las mejores variables seleccionadas con otras técnicas. Como contrapartida, el cálculo de estas variables es costoso y suele ser difícil darles un sentido de negocio."
   ]
  },
  {
   "cell_type": "markdown",
   "metadata": {
    "deletable": false,
    "editable": false,
    "nbgrader": {
     "checksum": "4ae2ec94c245a71e5a27519f3e255a5b",
     "grade": false,
     "grade_id": "cell-0af4b779c21d3c08",
     "locked": true,
     "schema_version": 1,
     "solution": false
    }
   },
   "source": [
    "¿Podrías probar varias técnicas de selección y transformación de variables? Ten en cuenta que no sólo es importante lo buenas que sean las variables finales para la predicción, sino también que el coste de calcularlas sea razonable y que seas capaz de explicar y justificar estas variables en caso de que el cliente lo solicite.\n",
    "\n",
    "* http://scikit-learn.org/stable/modules/feature_selection.html\n",
    "* http://scikit-learn.org/stable/modules/decomposition.html"
   ]
  },
  {
   "cell_type": "code",
   "execution_count": 165,
   "metadata": {
    "deletable": false,
    "nbgrader": {
     "checksum": "57b5c3ba1b2ab2d6587fdfb5179e5871",
     "grade": true,
     "grade_id": "cell-91b32683a97b0a80",
     "locked": false,
     "points": 3,
     "schema_version": 1,
     "solution": true
    }
   },
   "outputs": [
    {
     "name": "stdout",
     "output_type": "stream",
     "text": [
      "La importancia de cada variable es la siguiente  [0.01507522 0.07723365 0.0461078  0.0126359  0.31048348 0.06440769\n",
      " 0.02767006 0.02914865 0.02659697 0.03588483 0.03116733 0.03152804\n",
      " 0.02866468 0.03037348 0.02882715 0.02699734 0.02661921 0.02831296\n",
      " 0.02977734 0.02888092 0.01304018 0.02515243 0.02541468]\n",
      "El número de variables seleccionadas por el estimador (Tree Classifier) es: (2927, 4)\n",
      "El número de variables seleccionadas por el estimador (SVC - L1) es: (2927, 16)\n",
      "El número de variables seleccionadas por el estimador (SVC - L2) es: (2927, 3)\n",
      "[[2.44025876e-03 3.38896719e-02 2.56491577e-02 9.45078079e-01\n",
      "  1.06049390e+02 0.00000000e+00 1.14518957e+00 7.97970689e-01\n",
      "  4.04584674e-01 3.68251260e-01 8.22283809e-01 1.15720352e+00\n",
      "  5.44028938e-01 6.90522073e-01 5.04556845e-01 6.08624372e-01\n",
      "  1.34235153e+00 1.00538578e+00 6.98535866e-01 1.64920144e+00\n",
      "  3.44451197e-02 1.66016840e-01 2.14727679e+00]\n",
      " [6.56488414e-03 3.14885555e-02 1.20690636e-01 3.89540990e+00\n",
      "  0.00000000e+00 1.75070158e+02 1.92898323e+00 1.51407125e+00\n",
      "  6.62707237e-01 4.84391812e-01 1.47495849e+00 2.14643169e+00\n",
      "  1.08987413e+00 9.88481274e-01 8.08016662e-01 1.21936363e+00\n",
      "  3.10434348e+00 1.00142490e+00 1.32029447e+00 2.78547391e+00\n",
      "  5.36286142e-02 2.60528196e-01 3.79161569e+00]]\n"
     ]
    }
   ],
   "source": [
    "from sklearn.ensemble import ExtraTreesClassifier\n",
    "from sklearn.feature_selection import SelectFromModel\n",
    "from sklearn.preprocessing import OneHotEncoder\n",
    "from sklearn.svm import LinearSVC\n",
    "from sklearn.exceptions import ConvergenceWarning\n",
    "from sklearn.decomposition import NMF\n",
    "\n",
    "## PRUEBA 1 : CONVERTIR VARIABLE GÉNERO A CATEGÓRICA Y CREAR NUEVAS COLUMNAS CON LOS AÑOS DE NACIMIENTO Y DE ALTA\n",
    "\n",
    "# Pasar el género a categórica (one hot encoder) y crear una columna con el año de la fecha de nacimiento y de alta\n",
    "\n",
    "# of_style = OneHotEncoder()\n",
    "# of_results = of_style.fit_transform(variables[['Sexo']])\n",
    "# variables = variables.join(pd.DataFrame(of_results.toarray(), columns=of_style.categories_))\n",
    "\n",
    "# variables['Año_nacimiento'] = pd.to_datetime(variables['Fecha_Nacimiento']).dt.year\n",
    "# variables['Año_alta'] = pd.to_datetime(variables['Fecha_Alta']).dt.year\n",
    "\n",
    "## SE OBSERVÓ POSTERIORMENTE QUE EMPEORABA EL SCORE DEL MODELO (POR ESO ESTÁ COMENTADO EL CÓDIGO)\n",
    "\n",
    "# PRUEBA 2 : Utilizar estimadores basados en árboles que desechen las variables que son irrelevantes\n",
    "\n",
    "clf = ExtraTreesClassifier(n_estimators=200)\n",
    "clf = clf.fit(variables._get_numeric_data(), targets)\n",
    "print(\"La importancia de cada variable es la siguiente \", clf.feature_importances_)  \n",
    "\n",
    "model = SelectFromModel(clf, prefit=True)\n",
    "variables_new = model.transform(variables._get_numeric_data())\n",
    "print(\"El número de variables seleccionadas por el estimador (Tree Classifier) es:\",variables_new.shape)  \n",
    "\n",
    "# PRUEBA 3 : Utilizar máquinas de vectores de soporte para seleccionar las variables \n",
    "# Primero con L1 que no es el valor por defecto (se utiliza para datasets que son muy dipersos)\n",
    "\n",
    "lsvc = LinearSVC(C=0.01, penalty=\"l1\", dual=False).fit(variables._get_numeric_data(), targets)\n",
    "model = SelectFromModel(lsvc, prefit=True)\n",
    "variables_new_lsvc = model.transform(variables._get_numeric_data())\n",
    "print(\"El número de variables seleccionadas por el estimador (SVC - L1) es:\", variables_new_lsvc.shape)\n",
    "\n",
    "# Después con L2 que es el valor de penalty por defecto \n",
    "\n",
    "lsvc = LinearSVC(C=0.01, penalty=\"l2\", dual=False).fit(variables._get_numeric_data(), targets)\n",
    "model = SelectFromModel(lsvc, prefit=True)\n",
    "variables_new_lsvc = model.transform(variables._get_numeric_data())\n",
    "print(\"El número de variables seleccionadas por el estimador (SVC - L2) es:\", variables_new_lsvc.shape)\n",
    "\n",
    "# PRUEBA 4: NMF (es como PCA pero no acepta valores negativos)\n",
    "\n",
    "nmf = NMF(n_components=2, init='random', random_state=0)\n",
    "transformacion = nmf.fit_transform(variables._get_numeric_data())\n",
    "print(nmf.components_)\n",
    "\n",
    "# raise NotImplementedError()"
   ]
  },
  {
   "cell_type": "code",
   "execution_count": 166,
   "metadata": {},
   "outputs": [
    {
     "data": {
      "image/png": "[encoded data removed]",
      "text/plain": [
       "<Figure size 432x288 with 1 Axes>"
      ]
     },
     "metadata": {
      "needs_background": "light"
     },
     "output_type": "display_data"
    }
   ],
   "source": [
    "# Se representan las variables sintéticas como consecuencia de aplicar Non-Negative Matrix Factorization (NMF), donde \n",
    "# se obtienen dos matrices W Y H no negativas cuyo producto es la matriz no negativa variables.\n",
    "cm = plt.cm.RdBu\n",
    "cm_bright = ListedColormap(['#FF0000', '#0000FF'])\n",
    "plt.scatter(transformacion[1:200, 0], transformacion[1:200, 1], c=targets[1:200], cmap=cm_bright)\n",
    "plt.show()"
   ]
  },
  {
   "cell_type": "markdown",
   "metadata": {},
   "source": [
    "*El primer paso es llevar a cabo una transformación de las variables no numéricas en categóricas, como el sexo ya que pueden ser relevantes para el problema.Para ello se utiliza el one hot encoder. Cuando se hizo se comprobó que la influencia de esa variable era mínima. También se aumentaron los features añadiendo el año de nacimiento y de alta, y, aunque la influencia era mayor, al hacer las pruebas después en el modelo los resultados era peores.*\n",
    "\n",
    "*El siguiente paso es llevar a cabo técnicas de selección de variables como los árboles de decisión o las máquinas de vectores de soporte.Se observa que hay una gran diferencia en los modelos de máquinas de vectores si se utiliza como penalty L1 o L2. El valor L2 es el que hay por defecto y su resultado se parece bastante al del ExtraTreesClassifier donde determinan que las variables relevantes son 3-4. Sin embargo, cuando se utiliza L1 (que se usa cuando los datos del dataset son muy dispersos) se obtienen 17 variables relevantes. Posteriormente, se llevó a cabo la prueba en los modelos y se vio que con L1 funcionaban mucho mejor porque las variables más relevantes como el gasto de vida o de vehículo tienen valores muy dispersos, desde 0 hasta 7000, siendo uan gran mayoría 0*\n",
    "\n",
    "*Finalmente se probó también una técnica de transformación de variables muy parecida a PCA (NMF). Como cabía esperar, la separación entre variables es casi idéntica a la de PCA pero siempre entre valores positivos. También es importante tener en cuenta que el coste computacional de PCA es mayor que el de otras técnicas como las basadas en máquinas de vectores de soporte.*"
   ]
  },
  {
   "cell_type": "markdown",
   "metadata": {
    "deletable": false,
    "editable": false,
    "nbgrader": {
     "checksum": "10597da066304af497f5740b1fdff162",
     "grade": false,
     "grade_id": "cell-68e7dac2d2208f26",
     "locked": true,
     "schema_version": 1,
     "solution": false
    }
   },
   "source": [
    "## Entrenamiento del modelo"
   ]
  },
  {
   "cell_type": "markdown",
   "metadata": {
    "deletable": false,
    "editable": false,
    "nbgrader": {
     "checksum": "19926abb1c3b3d8b79b93ba5f4b51bc1",
     "grade": false,
     "grade_id": "cell-74db65134c61b716",
     "locked": true,
     "schema_version": 1,
     "solution": false
    }
   },
   "source": [
    "No es evidente cuál es el mejor tipo de modelo para resolver nuestro problema. Por lo tanto, empezaremos con los modelos más sencillos y estables, los modelos lineales. Si los resultados no son suficientemente buenos, probaremos modelos más complejos."
   ]
  },
  {
   "cell_type": "markdown",
   "metadata": {
    "deletable": false,
    "editable": false,
    "nbgrader": {
     "checksum": "72150111f1883ca439b051c9cdc20ed7",
     "grade": false,
     "grade_id": "cell-3455f3301f3a30fd",
     "locked": true,
     "schema_version": 1,
     "solution": false
    }
   },
   "source": [
    "Utilizaremos las variables originales, seleccionadas o transformadas y estudiaremos medidas de calidad como la precisión y el \"recall\" para evaluar cada uno de los modelos. Para ello, dividiremos el conjunto de datos de entrenamiento de modo que los primeros 2000 patrones servirán para entrenar los modelos, y el resto para validar:"
   ]
  },
  {
   "cell_type": "code",
   "execution_count": 19,
   "metadata": {},
   "outputs": [
    {
     "data": {
      "text/plain": [
       "(2927, 28)"
      ]
     },
     "execution_count": 19,
     "metadata": {},
     "output_type": "execute_result"
    }
   ],
   "source": [
    "variables.shape"
   ]
  },
  {
   "cell_type": "code",
   "execution_count": 39,
   "metadata": {
    "deletable": false,
    "editable": false,
    "nbgrader": {
     "checksum": "16fc1c41789e2873165dd20e67de3fee",
     "grade": false,
     "grade_id": "cell-7a8f6cda1dd92fae",
     "locked": true,
     "schema_version": 1,
     "solution": false
    }
   },
   "outputs": [],
   "source": [
    "import numpy as np\n",
    "\n",
    "from sklearn.metrics import classification_report\n",
    "\n",
    "X_train = variables._get_numeric_data()[1:2000]\n",
    "X_val = variables._get_numeric_data()[2001:]\n",
    "y_train = targets[1:2000]\n",
    "y_val = targets[2001:]"
   ]
  },
  {
   "cell_type": "markdown",
   "metadata": {
    "deletable": false,
    "editable": false,
    "nbgrader": {
     "checksum": "5a7519248e540daf4cd8546587b09b1a",
     "grade": false,
     "grade_id": "cell-d63d25014c5247b3",
     "locked": true,
     "schema_version": 1,
     "solution": false
    }
   },
   "source": [
    "El primer modelo a probar serán la regresión logística:"
   ]
  },
  {
   "cell_type": "code",
   "execution_count": 21,
   "metadata": {
    "deletable": false,
    "editable": false,
    "nbgrader": {
     "checksum": "16967776d987eb2da87071ad48a60337",
     "grade": false,
     "grade_id": "cell-cb11a6f054f4b763",
     "locked": true,
     "schema_version": 1,
     "solution": false
    }
   },
   "outputs": [
    {
     "name": "stdout",
     "output_type": "stream",
     "text": [
      "              precision    recall  f1-score   support\n",
      "\n",
      "       False       0.97      0.99      0.98       870\n",
      "        True       0.78      0.45      0.57        56\n",
      "\n",
      "    accuracy                           0.96       926\n",
      "   macro avg       0.87      0.72      0.77       926\n",
      "weighted avg       0.95      0.96      0.95       926\n",
      "\n"
     ]
    }
   ],
   "source": [
    "from sklearn.linear_model import LogisticRegression\n",
    "from sklearn.pipeline import Pipeline\n",
    "from sklearn.preprocessing import StandardScaler\n",
    "\n",
    "logr = Pipeline([('std', StandardScaler()), ('lr', LogisticRegression())])\n",
    "logr.fit(X_train, y_train)\n",
    "print(classification_report(y_val, logr.predict(X_val)))"
   ]
  },
  {
   "cell_type": "markdown",
   "metadata": {
    "deletable": false,
    "editable": false,
    "nbgrader": {
     "checksum": "dcbcb7ea4566ac1097ed99ee66c246bb",
     "grade": false,
     "grade_id": "cell-c48ab6ab4da1132b",
     "locked": true,
     "schema_version": 1,
     "solution": false
    }
   },
   "source": [
    "Vemos que los modelos lineales tienden a clasificar los patrones de la clase minoritaria como pertenecientes a la clase mayoritaria, por lo que vamos a probar con modelos también sencillos pero no lineales, como árboles de decisión, con la esperanza de obtener mejores resultados:"
   ]
  },
  {
   "cell_type": "code",
   "execution_count": 22,
   "metadata": {
    "deletable": false,
    "editable": false,
    "nbgrader": {
     "checksum": "af5b1a3208a39754fb82f95a2f34f14e",
     "grade": false,
     "grade_id": "cell-a43b15150531ce04",
     "locked": true,
     "schema_version": 1,
     "solution": false
    }
   },
   "outputs": [
    {
     "name": "stdout",
     "output_type": "stream",
     "text": [
      "              precision    recall  f1-score   support\n",
      "\n",
      "       False       0.98      0.98      0.98       870\n",
      "        True       0.66      0.71      0.68        56\n",
      "\n",
      "    accuracy                           0.96       926\n",
      "   macro avg       0.82      0.85      0.83       926\n",
      "weighted avg       0.96      0.96      0.96       926\n",
      "\n"
     ]
    }
   ],
   "source": [
    "from sklearn.tree import DecisionTreeClassifier\n",
    "\n",
    "t = DecisionTreeClassifier()\n",
    "t.fit(X_train, y_train)\n",
    "print(classification_report(y_val, t.predict(X_val)))"
   ]
  },
  {
   "cell_type": "markdown",
   "metadata": {
    "deletable": false,
    "editable": false,
    "nbgrader": {
     "checksum": "5b87188b1481a620dd02511ab22f4a4b",
     "grade": false,
     "grade_id": "cell-8581a785a4f4700f",
     "locked": true,
     "schema_version": 1,
     "solution": false
    }
   },
   "source": [
    "Elegir qué modelo utilizar y ajustarlo no es una tarea fácil. Habitualmente se prueban modelos sencillos y se va subiendo en complejidad si los resultados no son todo lo buenos que nos gustaría. La búsqueda de meta-parámetros es un proceso complejo que habitualmente necesita de cierta experiencia y conocimiento de los modelos.\n",
    "\n",
    "Intenta mejorar los resultados vistos hasta ahora eligiendo alguno de los modelos e intentando ajustar sus meta-parámetros. Puedes probar a combinar técnicas de selección o transformación de variables con los modelos predictivos, con la ayuda de los pipelines de Scikit-learn.\n",
    "\n",
    "* http://scikit-learn.org/stable/modules/linear_model.html\n",
    "* http://scikit-learn.org/stable/modules/neural_network.html\n",
    "* http://scikit-learn.org/stable/modules/tree.html\n",
    "* http://scikit-learn.org/stable/modules/svm.html\n",
    "* http://en.wikipedia.org/wiki/Precision_and_recall"
   ]
  },
  {
   "cell_type": "code",
   "execution_count": 221,
   "metadata": {
    "deletable": false,
    "nbgrader": {
     "checksum": "89ea2f8920a8fc7c8281aa78184478b7",
     "grade": true,
     "grade_id": "cell-af42990ea25cade7",
     "locked": false,
     "points": 4,
     "schema_version": 1,
     "solution": true
    },
    "scrolled": false
   },
   "outputs": [
    {
     "name": "stdout",
     "output_type": "stream",
     "text": [
      "El score del modelo 1 (Linear SVC + XGBoost) es : 0.9697624190064795\n",
      "El score del modelo 2 (PCA + XGBoost) es : 0.9535637149028078\n",
      "El score del modelo 3 (PCA + CatBoost) es: 0.9524838012958964\n",
      "El score del modelo 4 (Linear SVC + MLP) es: 0.968682505399568\n",
      "El score del modelo 5 (Linear SVC + LGBM) es: 0.6169736852251286\n",
      "El score del modelo 6 (PCA + Gaussian Naive Bayes) es: 0.9460043196544277\n",
      "El score del modelo 7 (PCA + Ensemble (AdaBoost)) es: 0.9524838012958964\n"
     ]
    }
   ],
   "source": [
    "from sklearn.pipeline import Pipeline\n",
    "import xgboost as xgb\n",
    "import lightgbm as lgbm\n",
    "from sklearn.neural_network import MLPClassifier\n",
    "from catboost import CatBoostClassifier\n",
    "from sklearn.svm import LinearSVC\n",
    "from sklearn.ensemble import AdaBoostClassifier\n",
    "from sklearn.preprocessing import StandardScaler\n",
    "from sklearn.preprocessing import LabelEncoder\n",
    "from sklearn.naive_bayes import GaussianNB\n",
    "\n",
    "import keras\n",
    "from keras.models import Sequential\n",
    "from keras.layers import Dense, Dropout\n",
    "from keras.optimizers import Adam\n",
    "from keras.wrappers.scikit_learn import KerasClassifier\n",
    "from sklearn.model_selection import cross_val_score\n",
    "from sklearn.exceptions import ConvergenceWarning\n",
    "\n",
    "# Para utilizar el catboost hace falta pasar la variable objetivo a numérica (para el xgboost no era necesario pero lo va a ser)\n",
    "le = LabelEncoder()\n",
    "le.fit(y_train)\n",
    "y_train = le.transform(y_train)\n",
    "\n",
    "# Se pasa la variable objetivo del test también a numérica\n",
    "le = LabelEncoder()\n",
    "le.fit(y_val)\n",
    "y_val = le.transform(y_val)\n",
    "\n",
    "# Se inicializan varios modelos\n",
    "xgb_model = xgb.XGBClassifier(scale_pos_weight = 5) # Se ha observado que la relación de True/False es 5/100 por eso se añade ese parámetro\n",
    "mlp_model = MLPClassifier(random_state=1, max_iter=2000, solver='lbfgs', alpha=1e-5, hidden_layer_sizes=(10, 5, 2))\n",
    "cbr_model = CatBoostClassifier(verbose = False)\n",
    "gnb_model = GaussianNB()\n",
    "ab_model  = AdaBoostClassifier(base_estimator=LinearSVC(), n_estimators=100, learning_rate=0.3, algorithm='SAMME')\n",
    "\n",
    "# Se crean varias pipelines combinando los diferentes modelos y técnicas de selección y transformación de variables\n",
    "pipe  = Pipeline([('std',StandardScaler()),('feature_selection', SelectFromModel(LinearSVC(penalty=\"l1\", loss='squared_hinge',max_iter = 5000, dual = False))),('model',xgb_model)])\n",
    "pipe2 = Pipeline([('std',StandardScaler()),('pca',PCA()),('model',xgb_model)])\n",
    "pipe3 = Pipeline([('std',StandardScaler()),('pca',PCA()),('model',cbr_model)])\n",
    "pipe4 = Pipeline([('std',StandardScaler()),('feature_selection', SelectFromModel(LinearSVC(penalty=\"l2\",loss='squared_hinge',max_iter = 5000, dual = False))),('model',mlp_model)])\n",
    "pipe5 = Pipeline([('std',StandardScaler()),('feature_selection', SelectFromModel(LinearSVC(penalty=\"l2\",loss='squared_hinge',max_iter = 5000, dual = False))),('model',reg_model)])\n",
    "pipe6 = Pipeline([('std',StandardScaler()),('feature_selection',PCA ()),('model',gnb_model)])\n",
    "pipe7 = Pipeline([('std',StandardScaler()),('feature_selection',PCA ()),('model',ab_model)])\n",
    "\n",
    "# Se entrenan todos los modelos y se saca su score\n",
    "pipe.fit(X_train,y_train)\n",
    "print(\"El score del modelo 1 (Linear SVC + XGBoost) es :\", pipe.score(X_val,y_val))\n",
    "\n",
    "pipe2.fit(X_train,y_train)\n",
    "print(\"El score del modelo 2 (PCA + XGBoost) es :\", pipe2.score(X_val,y_val))\n",
    "\n",
    "pipe3.fit(X_train,y_train)\n",
    "print(\"El score del modelo 3 (PCA + CatBoost) es:\" ,pipe3.score(X_val,y_val))\n",
    "\n",
    "pipe4.fit(X_train,y_train)\n",
    "print(\"El score del modelo 4 (Linear SVC + MLP) es:\" , pipe4.score(X_val,y_val))\n",
    "\n",
    "pipe5.fit(X_train,y_train)\n",
    "print(\"El score del modelo 5 (Linear SVC + LGBM) es:\" , pipe5.score(X_val,y_val))\n",
    "\n",
    "pipe6.fit(X_train,y_train)\n",
    "print(\"El score del modelo 6 (PCA + Gaussian Naive Bayes) es:\" , pipe6.score(X_val,y_val))\n",
    "\n",
    "pipe7.fit(X_train,y_train)\n",
    "print(\"El score del modelo 7 (PCA + Ensemble (AdaBoost)) es:\" , pipe7.score(X_val,y_val))\n",
    "\n",
    "# YOUR CODE HERE\n",
    "#raise NotImplementedError()"
   ]
  },
  {
   "cell_type": "code",
   "execution_count": 222,
   "metadata": {},
   "outputs": [
    {
     "name": "stdout",
     "output_type": "stream",
     "text": [
      "Epoch 1/100\n",
      "63/63 [==============================] - 1s 3ms/step - loss: 82.9879 - accuracy: 0.9069\n",
      "Epoch 2/100\n",
      "63/63 [==============================] - 0s 1ms/step - loss: 49.4583 - accuracy: 0.9061\n",
      "Epoch 3/100\n",
      "63/63 [==============================] - 0s 1ms/step - loss: 21.6435 - accuracy: 0.9235\n",
      "Epoch 4/100\n",
      "63/63 [==============================] - 0s 1ms/step - loss: 16.0660 - accuracy: 0.8842\n",
      "Epoch 5/100\n",
      "63/63 [==============================] - 0s 1ms/step - loss: 7.0574 - accuracy: 0.8925\n",
      "Epoch 6/100\n",
      "63/63 [==============================] - 0s 1ms/step - loss: 5.2887 - accuracy: 0.8735\n",
      "Epoch 7/100\n",
      "63/63 [==============================] - 0s 1ms/step - loss: 4.5326 - accuracy: 0.8818\n",
      "Epoch 8/100\n",
      "63/63 [==============================] - 0s 1ms/step - loss: 2.7684 - accuracy: 0.9100\n",
      "Epoch 9/100\n",
      "63/63 [==============================] - 0s 1ms/step - loss: 2.3888 - accuracy: 0.9085\n",
      "Epoch 10/100\n",
      "63/63 [==============================] - 0s 1ms/step - loss: 2.3858 - accuracy: 0.9220\n",
      "Epoch 11/100\n",
      "63/63 [==============================] - 0s 901us/step - loss: 1.5581 - accuracy: 0.9239\n",
      "Epoch 12/100\n",
      "63/63 [==============================] - 0s 1ms/step - loss: 1.3295 - accuracy: 0.9257\n",
      "Epoch 13/100\n",
      "63/63 [==============================] - 0s 1ms/step - loss: 0.8455 - accuracy: 0.9328\n",
      "Epoch 14/100\n",
      "63/63 [==============================] - 0s 1ms/step - loss: 0.5116 - accuracy: 0.9331\n",
      "Epoch 15/100\n",
      "63/63 [==============================] - 0s 1ms/step - loss: 1.1817 - accuracy: 0.9263\n",
      "Epoch 16/100\n",
      "63/63 [==============================] - 0s 1ms/step - loss: 0.6485 - accuracy: 0.9359\n",
      "Epoch 17/100\n",
      "63/63 [==============================] - 0s 1ms/step - loss: 0.6608 - accuracy: 0.9374\n",
      "Epoch 18/100\n",
      "63/63 [==============================] - 0s 1ms/step - loss: 0.4924 - accuracy: 0.9240\n",
      "Epoch 19/100\n",
      "63/63 [==============================] - 0s 901us/step - loss: 0.5907 - accuracy: 0.9367\n",
      "Epoch 20/100\n",
      "63/63 [==============================] - 0s 1ms/step - loss: 0.3869 - accuracy: 0.9331\n",
      "Epoch 21/100\n",
      "63/63 [==============================] - 0s 1ms/step - loss: 0.4640 - accuracy: 0.9381\n",
      "Epoch 22/100\n",
      "63/63 [==============================] - 0s 1ms/step - loss: 0.4239 - accuracy: 0.9452\n",
      "Epoch 23/100\n",
      "63/63 [==============================] - 0s 1ms/step - loss: 0.3631 - accuracy: 0.9459\n",
      "Epoch 24/100\n",
      "63/63 [==============================] - 0s 1ms/step - loss: 0.3432 - accuracy: 0.9398\n",
      "Epoch 25/100\n",
      "63/63 [==============================] - ETA: 0s - loss: 0.2436 - accuracy: 0.94 - 0s 1ms/step - loss: 0.2678 - accuracy: 0.9418\n",
      "Epoch 26/100\n",
      "63/63 [==============================] - 0s 925us/step - loss: 0.3588 - accuracy: 0.9418\n",
      "Epoch 27/100\n",
      "63/63 [==============================] - 0s 1ms/step - loss: 0.3208 - accuracy: 0.9363\n",
      "Epoch 28/100\n",
      "63/63 [==============================] - 0s 1ms/step - loss: 0.2954 - accuracy: 0.9443\n",
      "Epoch 29/100\n",
      "63/63 [==============================] - 0s 1ms/step - loss: 0.2400 - accuracy: 0.9387\n",
      "Epoch 30/100\n",
      "63/63 [==============================] - 0s 1ms/step - loss: 0.2077 - accuracy: 0.9522\n",
      "Epoch 31/100\n",
      "63/63 [==============================] - 0s 1ms/step - loss: 0.3089 - accuracy: 0.9403\n",
      "Epoch 32/100\n",
      "63/63 [==============================] - 0s 2ms/step - loss: 0.2003 - accuracy: 0.9448\n",
      "Epoch 33/100\n",
      "63/63 [==============================] - 0s 1ms/step - loss: 0.2584 - accuracy: 0.9428\n",
      "Epoch 34/100\n",
      "63/63 [==============================] - 0s 1ms/step - loss: 0.1889 - accuracy: 0.9508\n",
      "Epoch 35/100\n",
      "63/63 [==============================] - 0s 997us/step - loss: 0.2881 - accuracy: 0.9426\n",
      "Epoch 36/100\n",
      "63/63 [==============================] - 0s 966us/step - loss: 0.1830 - accuracy: 0.9461\n",
      "Epoch 37/100\n",
      "63/63 [==============================] - 0s 998us/step - loss: 0.1774 - accuracy: 0.9475\n",
      "Epoch 38/100\n",
      "63/63 [==============================] - 0s 1ms/step - loss: 0.2699 - accuracy: 0.9486\n",
      "Epoch 39/100\n",
      "63/63 [==============================] - 0s 1ms/step - loss: 0.1655 - accuracy: 0.9585\n",
      "Epoch 40/100\n",
      "63/63 [==============================] - 0s 931us/step - loss: 0.2331 - accuracy: 0.9438\n",
      "Epoch 41/100\n",
      "63/63 [==============================] - 0s 997us/step - loss: 0.1782 - accuracy: 0.9514\n",
      "Epoch 42/100\n",
      "63/63 [==============================] - 0s 1ms/step - loss: 0.2844 - accuracy: 0.9383\n",
      "Epoch 43/100\n",
      "63/63 [==============================] - 0s 1ms/step - loss: 0.3281 - accuracy: 0.9457\n",
      "Epoch 44/100\n",
      "63/63 [==============================] - 0s 1ms/step - loss: 0.3704 - accuracy: 0.9418\n",
      "Epoch 45/100\n",
      "63/63 [==============================] - 0s 1ms/step - loss: 0.1711 - accuracy: 0.9482\n",
      "Epoch 46/100\n",
      "63/63 [==============================] - 0s 1ms/step - loss: 0.2104 - accuracy: 0.9490\n",
      "Epoch 47/100\n",
      "63/63 [==============================] - 0s 1ms/step - loss: 0.2009 - accuracy: 0.9441\n",
      "Epoch 48/100\n",
      "63/63 [==============================] - 0s 1ms/step - loss: 0.1901 - accuracy: 0.9432\n",
      "Epoch 49/100\n",
      "63/63 [==============================] - 0s 1ms/step - loss: 0.3220 - accuracy: 0.9401\n",
      "Epoch 50/100\n",
      "63/63 [==============================] - 0s 1ms/step - loss: 0.2158 - accuracy: 0.9389\n",
      "Epoch 51/100\n",
      "63/63 [==============================] - 0s 1ms/step - loss: 0.1876 - accuracy: 0.9432\n",
      "Epoch 52/100\n",
      "63/63 [==============================] - 0s 1ms/step - loss: 0.2087 - accuracy: 0.9419\n",
      "Epoch 53/100\n",
      "63/63 [==============================] - 0s 949us/step - loss: 0.2032 - accuracy: 0.9505\n",
      "Epoch 54/100\n",
      "63/63 [==============================] - 0s 1ms/step - loss: 0.1702 - accuracy: 0.9493\n",
      "Epoch 55/100\n",
      "63/63 [==============================] - 0s 1ms/step - loss: 0.1650 - accuracy: 0.9502\n",
      "Epoch 56/100\n",
      "63/63 [==============================] - 0s 1ms/step - loss: 0.1915 - accuracy: 0.9540\n",
      "Epoch 57/100\n",
      "63/63 [==============================] - 0s 1ms/step - loss: 0.1484 - accuracy: 0.9541\n",
      "Epoch 58/100\n",
      "63/63 [==============================] - 0s 1ms/step - loss: 0.1904 - accuracy: 0.9464\n",
      "Epoch 59/100\n",
      "63/63 [==============================] - 0s 1ms/step - loss: 0.1604 - accuracy: 0.9482\n",
      "Epoch 60/100\n",
      "63/63 [==============================] - 0s 1ms/step - loss: 0.2426 - accuracy: 0.9461\n",
      "Epoch 61/100\n",
      "63/63 [==============================] - 0s 1ms/step - loss: 0.1525 - accuracy: 0.9518\n",
      "Epoch 62/100\n",
      "63/63 [==============================] - 0s 1ms/step - loss: 0.1684 - accuracy: 0.9476\n",
      "Epoch 63/100\n",
      "63/63 [==============================] - 0s 1ms/step - loss: 0.1683 - accuracy: 0.9485\n",
      "Epoch 64/100\n",
      "63/63 [==============================] - 0s 1ms/step - loss: 0.1850 - accuracy: 0.9402\n",
      "Epoch 65/100\n",
      "63/63 [==============================] - 0s 933us/step - loss: 0.1824 - accuracy: 0.9379\n",
      "Epoch 66/100\n",
      "63/63 [==============================] - 0s 1ms/step - loss: 0.1731 - accuracy: 0.9475\n",
      "Epoch 67/100\n",
      "63/63 [==============================] - 0s 1ms/step - loss: 0.1809 - accuracy: 0.9492\n",
      "Epoch 68/100\n",
      "63/63 [==============================] - 0s 1ms/step - loss: 0.1573 - accuracy: 0.9473\n",
      "Epoch 69/100\n",
      "63/63 [==============================] - 0s 1ms/step - loss: 0.1558 - accuracy: 0.9489\n",
      "Epoch 70/100\n",
      "63/63 [==============================] - 0s 1ms/step - loss: 0.1651 - accuracy: 0.9444\n",
      "Epoch 71/100\n",
      "63/63 [==============================] - 0s 1ms/step - loss: 0.1773 - accuracy: 0.9463\n",
      "Epoch 72/100\n",
      "63/63 [==============================] - 0s 1ms/step - loss: 0.1934 - accuracy: 0.9504\n",
      "Epoch 73/100\n",
      "63/63 [==============================] - 0s 1ms/step - loss: 0.1861 - accuracy: 0.9413\n",
      "Epoch 74/100\n",
      "63/63 [==============================] - 0s 1ms/step - loss: 0.1597 - accuracy: 0.9469\n",
      "Epoch 75/100\n",
      "63/63 [==============================] - 0s 1ms/step - loss: 0.1805 - accuracy: 0.9377\n",
      "Epoch 76/100\n",
      "63/63 [==============================] - 0s 1ms/step - loss: 0.1833 - accuracy: 0.9419\n",
      "Epoch 77/100\n",
      "63/63 [==============================] - 0s 1ms/step - loss: 0.1647 - accuracy: 0.9447\n",
      "Epoch 78/100\n",
      "63/63 [==============================] - 0s 1ms/step - loss: 0.1512 - accuracy: 0.9527\n",
      "Epoch 79/100\n",
      "63/63 [==============================] - 0s 1ms/step - loss: 0.1833 - accuracy: 0.9385\n",
      "Epoch 80/100\n",
      "63/63 [==============================] - 0s 1ms/step - loss: 0.1563 - accuracy: 0.9522\n",
      "Epoch 81/100\n",
      "63/63 [==============================] - 0s 1ms/step - loss: 0.1707 - accuracy: 0.9439\n",
      "Epoch 82/100\n"
     ]
    },
    {
     "name": "stdout",
     "output_type": "stream",
     "text": [
      "63/63 [==============================] - 0s 1ms/step - loss: 0.1886 - accuracy: 0.9427\n",
      "Epoch 83/100\n",
      "63/63 [==============================] - 0s 1ms/step - loss: 0.1892 - accuracy: 0.9444\n",
      "Epoch 84/100\n",
      "63/63 [==============================] - 0s 1ms/step - loss: 0.1773 - accuracy: 0.9396\n",
      "Epoch 85/100\n",
      "63/63 [==============================] - 0s 1ms/step - loss: 0.1561 - accuracy: 0.9463\n",
      "Epoch 86/100\n",
      "63/63 [==============================] - 0s 1ms/step - loss: 0.1445 - accuracy: 0.9524\n",
      "Epoch 87/100\n",
      "63/63 [==============================] - 0s 1ms/step - loss: 0.1660 - accuracy: 0.9451\n",
      "Epoch 88/100\n",
      "63/63 [==============================] - 0s 1ms/step - loss: 0.1537 - accuracy: 0.9496\n",
      "Epoch 89/100\n",
      "63/63 [==============================] - 0s 1ms/step - loss: 0.1518 - accuracy: 0.9521\n",
      "Epoch 90/100\n",
      "63/63 [==============================] - 0s 1ms/step - loss: 0.1565 - accuracy: 0.9489\n",
      "Epoch 91/100\n",
      "63/63 [==============================] - 0s 1ms/step - loss: 0.1831 - accuracy: 0.9372\n",
      "Epoch 92/100\n",
      "63/63 [==============================] - 0s 2ms/step - loss: 0.2054 - accuracy: 0.9469\n",
      "Epoch 93/100\n",
      "63/63 [==============================] - 0s 1ms/step - loss: 0.1410 - accuracy: 0.9550\n",
      "Epoch 94/100\n",
      "63/63 [==============================] - 0s 1ms/step - loss: 0.1657 - accuracy: 0.9421\n",
      "Epoch 95/100\n",
      "63/63 [==============================] - 0s 1ms/step - loss: 0.1598 - accuracy: 0.9454\n",
      "Epoch 96/100\n",
      "63/63 [==============================] - 0s 2ms/step - loss: 0.1615 - accuracy: 0.9445\n",
      "Epoch 97/100\n",
      "63/63 [==============================] - 0s 1ms/step - loss: 0.1658 - accuracy: 0.9429\n",
      "Epoch 98/100\n",
      "63/63 [==============================] - 0s 1ms/step - loss: 0.1578 - accuracy: 0.9477\n",
      "Epoch 99/100\n",
      "63/63 [==============================] - 0s 1ms/step - loss: 0.1676 - accuracy: 0.9412\n",
      "Epoch 100/100\n",
      "63/63 [==============================] - 0s 1ms/step - loss: 0.1477 - accuracy: 0.9504\n"
     ]
    },
    {
     "name": "stderr",
     "output_type": "stream",
     "text": [
      "C:\\Users\\jimen\\anaconda3\\lib\\site-packages\\tensorflow\\python\\keras\\engine\\sequential.py:450: UserWarning: `model.predict_classes()` is deprecated and will be removed after 2021-01-01. Please use instead:* `np.argmax(model.predict(x), axis=-1)`,   if your model does multi-class classification   (e.g. if it uses a `softmax` last-layer activation).* `(model.predict(x) > 0.5).astype(\"int32\")`,   if your model does binary classification   (e.g. if it uses a `sigmoid` last-layer activation).\n",
      "  warnings.warn('`model.predict_classes()` is deprecated and '\n"
     ]
    },
    {
     "name": "stdout",
     "output_type": "stream",
     "text": [
      "63/63 [==============================] - 0s 676us/step - loss: 0.1525 - accuracy: 0.9455\n",
      "29/29 [==============================] - 0s 712us/step - loss: 0.2207 - accuracy: 0.9395\n",
      "Accuracy\n",
      "nn: 0.9454727172851562 0.9395248293876648\n"
     ]
    }
   ],
   "source": [
    "# También se prueba con una LSTM y el wrapper de keras y scikit learn\n",
    "import keras\n",
    "from keras.models import Sequential\n",
    "from keras.layers import Dense, Dropout\n",
    "from keras.optimizers import Adam\n",
    "from keras.wrappers.scikit_learn import KerasClassifier\n",
    "from sklearn.model_selection import cross_val_score\n",
    "\n",
    "def create_nn():\n",
    "    model = Sequential()\n",
    "    model.add(Dense(10, activation='relu', input_shape=(23,)))\n",
    "    model.add(Dropout(0.2))\n",
    "    model.add(Dense(10, activation='relu'))\n",
    "    model.add(Dropout(0.2))\n",
    "    model.add(Dense(2, activation='softmax'))\n",
    "    model.compile(loss='categorical_crossentropy',\n",
    "                optimizer=Adam(),\n",
    "                metrics=['accuracy'])\n",
    "    return model\n",
    "\n",
    "nn = KerasClassifier(build_fn=create_nn, epochs=100)\n",
    "nn.fit(X_train,y_train)\n",
    "preds_nn = nn.predict(X_val)\n",
    "score_nn_train = nn.score(X_train,y_train)\n",
    "score_nn = nn.score(X_val, y_val)\n",
    "\n",
    "print(f\"Accuracy\\nnn: {score_nn_train} {score_nn}\")"
   ]
  },
  {
   "cell_type": "markdown",
   "metadata": {},
   "source": [
    "*Se oberva que los modelos que dan mejores resultados son el 1 y el 4 por lo que se va a realizar la búsqueda de metaparámetros en ellos (con el 1 a través del Grid Search y con el 4 con el Bayes Search)*"
   ]
  },
  {
   "cell_type": "code",
   "execution_count": 203,
   "metadata": {},
   "outputs": [
    {
     "name": "stdout",
     "output_type": "stream",
     "text": [
      "{'feature_selection__estimator__max_iter': 10000, 'model__max_depth': 2, 'model__n_estimators': 100}\n",
      "0.9598179689814252\n"
     ]
    }
   ],
   "source": [
    "# Con los dos mejores modelos se realiza la búsqueda de metaparámetros\n",
    "from sklearn.model_selection import GridSearchCV, cross_validate, cross_val_score\n",
    "param_grid = {\n",
    "    'model__max_depth': [2, 3, 5, 7, 10],\n",
    "    'model__n_estimators': [10, 100, 500],\n",
    "    'feature_selection__estimator__max_iter' : [10000,15000]\n",
    "}\n",
    "\n",
    "grid = GridSearchCV(pipe, param_grid, cv=5, n_jobs=-1, scoring='roc_auc')\n",
    "grid.fit(variables._get_numeric_data(),targets)\n",
    "print(grid.best_params_)\n",
    "mean_score = grid.cv_results_['mean_test_score'][grid.best_index_]\n",
    "print(mean_score)"
   ]
  },
  {
   "cell_type": "code",
   "execution_count": 223,
   "metadata": {},
   "outputs": [
    {
     "name": "stdout",
     "output_type": "stream",
     "text": [
      "0.9395248380129589\n"
     ]
    }
   ],
   "source": [
    "from skopt import BayesSearchCV\n",
    "from skopt.space import Real\n",
    "estimator = Pipeline([('std', StandardScaler()),('feature_selection',SelectFromModel(LinearSVC(penalty=\"l2\",loss='squared_hinge',max_iter = 5000, dual = True))),\n",
    "                      ('mlp', MLPClassifier(max_iter=2000, hidden_layer_sizes=(10, 5, 2)))])\n",
    "predictor = BayesSearchCV(estimator, {'mlp__alpha': Real(0.001, 0.1),\n",
    "                          'mlp__solver': ['lbfgs','adam', 'sgd']}, n_iter = 15)\n",
    "predictor.fit(X_train,y_train)\n",
    "print(predictor.score(X_val, y_val))"
   ]
  },
  {
   "cell_type": "markdown",
   "metadata": {
    "deletable": false,
    "editable": false,
    "nbgrader": {
     "checksum": "0328a1963e2b733c5988941e0f3d8cdd",
     "grade": false,
     "grade_id": "cell-4d806d8511ceb9ea",
     "locked": true,
     "schema_version": 1,
     "solution": false
    }
   },
   "source": [
    "## Evaluación del modelo"
   ]
  },
  {
   "cell_type": "markdown",
   "metadata": {
    "deletable": false,
    "editable": false,
    "nbgrader": {
     "checksum": "6ca4fce12d6f9451f49e1152c5c3eae4",
     "grade": false,
     "grade_id": "cell-b20fe9034a99937c",
     "locked": true,
     "schema_version": 1,
     "solution": false
    }
   },
   "source": [
    "Ya vimos en el apartado anterior algunos indicadores de la calidad del modelo. También podemos utilizar gráficas como la curva precisión-recall o la curva ROC:"
   ]
  },
  {
   "cell_type": "code",
   "execution_count": 163,
   "metadata": {
    "deletable": false,
    "editable": false,
    "nbgrader": {
     "checksum": "53b88f79d7be69f645dbbfce16f35381",
     "grade": false,
     "grade_id": "cell-b7cf668babbe143f",
     "locked": true,
     "schema_version": 1,
     "solution": false
    }
   },
   "outputs": [
    {
     "data": {
      "image/png": "[encoded data removed]",
      "text/plain": [
       "<Figure size 432x288 with 1 Axes>"
      ]
     },
     "metadata": {
      "needs_background": "light"
     },
     "output_type": "display_data"
    },
    {
     "data": {
      "image/png": "[encoded data removed]",
      "text/plain": [
       "<Figure size 432x288 with 1 Axes>"
      ]
     },
     "metadata": {
      "needs_background": "light"
     },
     "output_type": "display_data"
    }
   ],
   "source": [
    "from sklearn.metrics import precision_recall_curve, roc_curve, auc\n",
    "\n",
    "precision, recall, thresholds = precision_recall_curve(y_val, logr.predict(X_val))\n",
    "pr_auc = auc(precision, recall)\n",
    "plt.figure()\n",
    "plt.plot(precision, recall, label='Precision-recall curve (area = %0.2f)' % pr_auc)\n",
    "plt.plot([0, 1], [0, 1], 'k--')\n",
    "plt.xlim([0.0, 1.0])\n",
    "plt.ylim([0.0, 1.0])\n",
    "plt.xlabel('Precision')\n",
    "plt.ylabel('Recall')\n",
    "plt.title('Precision-recall curve')\n",
    "plt.legend(loc=\"lower right\")\n",
    "plt.show()\n",
    "\n",
    "fpr, tpr, thresholds = roc_curve(y_val, logr.predict_proba(X_val)[:, 1])\n",
    "roc_auc = auc(fpr, tpr)\n",
    "plt.figure()\n",
    "plt.plot(fpr, tpr, label='ROC curve (area = %0.2f)' % roc_auc)\n",
    "plt.plot([0, 1], [0, 1], 'k--')\n",
    "plt.xlim([0.0, 1.0])\n",
    "plt.ylim([0.0, 1.0])\n",
    "plt.xlabel('False Positive Rate')\n",
    "plt.ylabel('True Positive Rate')\n",
    "plt.title('ROC curve')\n",
    "plt.legend(loc=\"lower right\")\n",
    "plt.show()"
   ]
  },
  {
   "cell_type": "markdown",
   "metadata": {
    "deletable": false,
    "editable": false,
    "nbgrader": {
     "checksum": "7e220248520fd90c195ec83121c87216",
     "grade": false,
     "grade_id": "cell-17691bc4a1f832c1",
     "locked": true,
     "schema_version": 1,
     "solution": false
    }
   },
   "source": [
    "Es muy habitual utilizar estas gráficas, especialmente la curva ROC, para decidir si los resultados son satisfactorios. Cuanto mayor sea el área que queda bajo la curva, mejores son los resultados del modelo que estamos probando."
   ]
  },
  {
   "cell_type": "markdown",
   "metadata": {
    "deletable": false,
    "editable": false,
    "nbgrader": {
     "checksum": "5295a3442d164918777987b6ae47ffe4",
     "grade": false,
     "grade_id": "cell-236e2d957e5f7944",
     "locked": true,
     "schema_version": 1,
     "solution": false
    }
   },
   "source": [
    "Utiliza gráficas (estas u otras que puedas encontrar útiles) para hacer una valoración final de los resultados. Razona las conclusiones.\n",
    "\n",
    "* http://scikit-learn.org/stable/modules/model_evaluation.html\n",
    "* http://scikit-learn.org/stable/modules/classes.html#module-sklearn.metrics"
   ]
  },
  {
   "cell_type": "code",
   "execution_count": 204,
   "metadata": {
    "deletable": false,
    "nbgrader": {
     "checksum": "8d40558ed09a91d46b3c8dd306a43d81",
     "grade": true,
     "grade_id": "cell-938cb7fd3bbc7bef",
     "locked": false,
     "points": 3,
     "schema_version": 1,
     "solution": true
    }
   },
   "outputs": [
    {
     "data": {
      "image/png": "[encoded data removed]",
      "text/plain": [
       "<Figure size 432x288 with 1 Axes>"
      ]
     },
     "metadata": {
      "needs_background": "light"
     },
     "output_type": "display_data"
    },
    {
     "data": {
      "image/png": "[encoded data removed]",
      "text/plain": [
       "<Figure size 432x288 with 1 Axes>"
      ]
     },
     "metadata": {
      "needs_background": "light"
     },
     "output_type": "display_data"
    },
    {
     "name": "stdout",
     "output_type": "stream",
     "text": [
      "Precision: 85.94%\n",
      "Recall: 98.21%\n",
      "F1 Score: 91.67%\n",
      "Accuracy: 98.92%\n"
     ]
    },
    {
     "data": {
      "image/png": "[encoded data removed]",
      "text/plain": [
       "<Figure size 432x288 with 2 Axes>"
      ]
     },
     "metadata": {
      "needs_background": "light"
     },
     "output_type": "display_data"
    }
   ],
   "source": [
    "from sklearn.metrics import precision_recall_curve, roc_curve, auc\n",
    "from sklearn.metrics import confusion_matrix, f1_score, precision_score, recall_score, accuracy_score\n",
    "\n",
    "precision, recall, thresholds = precision_recall_curve(y_val, grid.predict(X_val))\n",
    "pr_auc = auc(precision, recall)\n",
    "plt.figure()\n",
    "plt.plot(precision, recall, label='Precision-recall curve (area = %0.2f)' % pr_auc)\n",
    "plt.plot([0, 1], [0, 1], 'k--')\n",
    "plt.xlim([0.0, 1.0])\n",
    "plt.ylim([0.0, 1.0])\n",
    "plt.xlabel('Precision')\n",
    "plt.ylabel('Recall')\n",
    "plt.title('Precision-recall curve')\n",
    "plt.legend(loc=\"lower right\")\n",
    "plt.show()\n",
    "\n",
    "fpr, tpr, thresholds = roc_curve(y_val, grid.predict_proba(X_val)[:, 1])\n",
    "roc_auc = auc(fpr, tpr)\n",
    "plt.figure()\n",
    "plt.plot(fpr, tpr, label='ROC curve (area = %0.2f)' % roc_auc)\n",
    "plt.plot([0, 1], [0, 1], 'k--')\n",
    "plt.xlim([0.0, 1.0])\n",
    "plt.ylim([0.0, 1.0])\n",
    "plt.xlabel('False Positive Rate')\n",
    "plt.ylabel('True Positive Rate')\n",
    "plt.title('ROC curve')\n",
    "plt.legend(loc=\"lower right\")\n",
    "plt.show()\n",
    "\n",
    "# Se obtienen las diferentes métricas del problema (accuracy, precision y recall)\n",
    "\n",
    "cf_matrix =confusion_matrix(y_val,grid.predict(X_val))\n",
    "tn, fp, fn, tp = confusion_matrix(y_val, grid.predict(X_val)).ravel()\n",
    "print(\"Precision: {:.2f}%\".format(100 * precision_score(y_val, grid.predict(X_val))))\n",
    "print(\"Recall: {:.2f}%\".format(100 * recall_score(y_val, grid.predict(X_val))))\n",
    "print(\"F1 Score: {:.2f}%\".format(100 * f1_score(y_val,grid.predict(X_val))))\n",
    "print(\"Accuracy: {:.2f}%\".format(100 * accuracy_score(y_val,grid.predict(X_val))))\n",
    "\n",
    "import seaborn as sns\n",
    "import matplotlib.pyplot as plt\n",
    "ax= plt.subplot()\n",
    "sns.heatmap(cf_matrix, annot=True, ax = ax,cmap='Blues',fmt='');\n",
    "ax.set_xlabel('Predicción');\n",
    "ax.set_ylabel('Real');\n",
    "ax.set_title('Matriz de confusión');\n",
    "ax.xaxis.set_ticklabels(['False', 'True']); ax.yaxis.set_ticklabels(['False', 'True']);\n",
    "# YOUR CODE HERE\n",
    "#raise NotImplementedError()"
   ]
  },
  {
   "cell_type": "code",
   "execution_count": 233,
   "metadata": {},
   "outputs": [],
   "source": [
    "df_test = pd.read_csv(\"Clientes_test.csv\", sep = \"\\t\")"
   ]
  },
  {
   "cell_type": "code",
   "execution_count": 234,
   "metadata": {},
   "outputs": [
    {
     "data": {
      "text/html": [
       "<div>\n",
       "<style scoped>\n",
       "    .dataframe tbody tr th:only-of-type {\n",
       "        vertical-align: middle;\n",
       "    }\n",
       "\n",
       "    .dataframe tbody tr th {\n",
       "        vertical-align: top;\n",
       "    }\n",
       "\n",
       "    .dataframe thead th {\n",
       "        text-align: right;\n",
       "    }\n",
       "</style>\n",
       "<table border=\"1\" class=\"dataframe\">\n",
       "  <thead>\n",
       "    <tr style=\"text-align: right;\">\n",
       "      <th></th>\n",
       "      <th>ID_Cliente</th>\n",
       "      <th>Fecha_Nacimiento</th>\n",
       "      <th>Fecha_Alta</th>\n",
       "      <th>Sexo</th>\n",
       "      <th>ID_Zona</th>\n",
       "      <th>Productos_Vida</th>\n",
       "      <th>Productos_Vehiculos</th>\n",
       "      <th>Productos_Otros</th>\n",
       "      <th>Gasto_Vida</th>\n",
       "      <th>Gasto_Vehiculos</th>\n",
       "      <th>Gasto_Otros</th>\n",
       "    </tr>\n",
       "  </thead>\n",
       "  <tbody>\n",
       "    <tr>\n",
       "      <th>0</th>\n",
       "      <td>C2172</td>\n",
       "      <td>05/10/1981</td>\n",
       "      <td>04/02/2005</td>\n",
       "      <td>Hombre</td>\n",
       "      <td>Z0403</td>\n",
       "      <td>1</td>\n",
       "      <td>2</td>\n",
       "      <td>2</td>\n",
       "      <td>735.14</td>\n",
       "      <td>2535.49</td>\n",
       "      <td>337.77</td>\n",
       "    </tr>\n",
       "    <tr>\n",
       "      <th>1</th>\n",
       "      <td>C1627</td>\n",
       "      <td>21/09/1983</td>\n",
       "      <td>27/12/2004</td>\n",
       "      <td>Mujer</td>\n",
       "      <td>Z0700</td>\n",
       "      <td>0</td>\n",
       "      <td>1</td>\n",
       "      <td>1</td>\n",
       "      <td>0.00</td>\n",
       "      <td>3195.94</td>\n",
       "      <td>87.96</td>\n",
       "    </tr>\n",
       "    <tr>\n",
       "      <th>2</th>\n",
       "      <td>C0649</td>\n",
       "      <td>24/01/1945</td>\n",
       "      <td>02/12/1967</td>\n",
       "      <td>Hombre</td>\n",
       "      <td>Z1023</td>\n",
       "      <td>0</td>\n",
       "      <td>0</td>\n",
       "      <td>0</td>\n",
       "      <td>0.00</td>\n",
       "      <td>0.00</td>\n",
       "      <td>0.00</td>\n",
       "    </tr>\n",
       "    <tr>\n",
       "      <th>3</th>\n",
       "      <td>C0712</td>\n",
       "      <td>11/07/1945</td>\n",
       "      <td>15/10/1966</td>\n",
       "      <td>Hombre</td>\n",
       "      <td>Z0648</td>\n",
       "      <td>0</td>\n",
       "      <td>1</td>\n",
       "      <td>0</td>\n",
       "      <td>0.00</td>\n",
       "      <td>3183.59</td>\n",
       "      <td>0.00</td>\n",
       "    </tr>\n",
       "    <tr>\n",
       "      <th>4</th>\n",
       "      <td>C0648</td>\n",
       "      <td>09/02/1964</td>\n",
       "      <td>11/09/1988</td>\n",
       "      <td>Hombre</td>\n",
       "      <td>Z0955</td>\n",
       "      <td>0</td>\n",
       "      <td>1</td>\n",
       "      <td>2</td>\n",
       "      <td>0.00</td>\n",
       "      <td>3613.07</td>\n",
       "      <td>238.26</td>\n",
       "    </tr>\n",
       "    <tr>\n",
       "      <th>...</th>\n",
       "      <td>...</td>\n",
       "      <td>...</td>\n",
       "      <td>...</td>\n",
       "      <td>...</td>\n",
       "      <td>...</td>\n",
       "      <td>...</td>\n",
       "      <td>...</td>\n",
       "      <td>...</td>\n",
       "      <td>...</td>\n",
       "      <td>...</td>\n",
       "      <td>...</td>\n",
       "    </tr>\n",
       "    <tr>\n",
       "      <th>888</th>\n",
       "      <td>C2417</td>\n",
       "      <td>20/08/1952</td>\n",
       "      <td>01/02/1974</td>\n",
       "      <td>Hombre</td>\n",
       "      <td>Z0815</td>\n",
       "      <td>0</td>\n",
       "      <td>1</td>\n",
       "      <td>0</td>\n",
       "      <td>0.00</td>\n",
       "      <td>4264.50</td>\n",
       "      <td>0.00</td>\n",
       "    </tr>\n",
       "    <tr>\n",
       "      <th>889</th>\n",
       "      <td>C2279</td>\n",
       "      <td>21/11/1983</td>\n",
       "      <td>10/03/2008</td>\n",
       "      <td>Hombre</td>\n",
       "      <td>Z1506</td>\n",
       "      <td>0</td>\n",
       "      <td>0</td>\n",
       "      <td>2</td>\n",
       "      <td>0.00</td>\n",
       "      <td>0.00</td>\n",
       "      <td>559.94</td>\n",
       "    </tr>\n",
       "    <tr>\n",
       "      <th>890</th>\n",
       "      <td>C3365</td>\n",
       "      <td>23/06/1981</td>\n",
       "      <td>31/03/2002</td>\n",
       "      <td>Hombre</td>\n",
       "      <td>Z0860</td>\n",
       "      <td>0</td>\n",
       "      <td>0</td>\n",
       "      <td>0</td>\n",
       "      <td>0.00</td>\n",
       "      <td>0.00</td>\n",
       "      <td>0.00</td>\n",
       "    </tr>\n",
       "    <tr>\n",
       "      <th>891</th>\n",
       "      <td>C0237</td>\n",
       "      <td>26/11/1958</td>\n",
       "      <td>25/01/1981</td>\n",
       "      <td>Hombre</td>\n",
       "      <td>Z0318</td>\n",
       "      <td>0</td>\n",
       "      <td>1</td>\n",
       "      <td>0</td>\n",
       "      <td>0.00</td>\n",
       "      <td>2036.26</td>\n",
       "      <td>0.00</td>\n",
       "    </tr>\n",
       "    <tr>\n",
       "      <th>892</th>\n",
       "      <td>C3112</td>\n",
       "      <td>22/06/1946</td>\n",
       "      <td>12/06/1967</td>\n",
       "      <td>Hombre</td>\n",
       "      <td>Z0865</td>\n",
       "      <td>0</td>\n",
       "      <td>0</td>\n",
       "      <td>2</td>\n",
       "      <td>0.00</td>\n",
       "      <td>0.00</td>\n",
       "      <td>293.19</td>\n",
       "    </tr>\n",
       "  </tbody>\n",
       "</table>\n",
       "<p>893 rows × 11 columns</p>\n",
       "</div>"
      ],
      "text/plain": [
       "    ID_Cliente Fecha_Nacimiento  Fecha_Alta    Sexo ID_Zona  Productos_Vida  \\\n",
       "0        C2172       05/10/1981  04/02/2005  Hombre   Z0403               1   \n",
       "1        C1627       21/09/1983  27/12/2004   Mujer   Z0700               0   \n",
       "2        C0649       24/01/1945  02/12/1967  Hombre   Z1023               0   \n",
       "3        C0712       11/07/1945  15/10/1966  Hombre   Z0648               0   \n",
       "4        C0648       09/02/1964  11/09/1988  Hombre   Z0955               0   \n",
       "..         ...              ...         ...     ...     ...             ...   \n",
       "888      C2417       20/08/1952  01/02/1974  Hombre   Z0815               0   \n",
       "889      C2279       21/11/1983  10/03/2008  Hombre   Z1506               0   \n",
       "890      C3365       23/06/1981  31/03/2002  Hombre   Z0860               0   \n",
       "891      C0237       26/11/1958  25/01/1981  Hombre   Z0318               0   \n",
       "892      C3112       22/06/1946  12/06/1967  Hombre   Z0865               0   \n",
       "\n",
       "     Productos_Vehiculos  Productos_Otros  Gasto_Vida  Gasto_Vehiculos  \\\n",
       "0                      2                2      735.14          2535.49   \n",
       "1                      1                1        0.00          3195.94   \n",
       "2                      0                0        0.00             0.00   \n",
       "3                      1                0        0.00          3183.59   \n",
       "4                      1                2        0.00          3613.07   \n",
       "..                   ...              ...         ...              ...   \n",
       "888                    1                0        0.00          4264.50   \n",
       "889                    0                2        0.00             0.00   \n",
       "890                    0                0        0.00             0.00   \n",
       "891                    1                0        0.00          2036.26   \n",
       "892                    0                2        0.00             0.00   \n",
       "\n",
       "     Gasto_Otros  \n",
       "0         337.77  \n",
       "1          87.96  \n",
       "2           0.00  \n",
       "3           0.00  \n",
       "4         238.26  \n",
       "..           ...  \n",
       "888         0.00  \n",
       "889       559.94  \n",
       "890         0.00  \n",
       "891         0.00  \n",
       "892       293.19  \n",
       "\n",
       "[893 rows x 11 columns]"
      ]
     },
     "execution_count": 234,
     "metadata": {},
     "output_type": "execute_result"
    }
   ],
   "source": [
    "df_test"
   ]
  },
  {
   "cell_type": "code",
   "execution_count": 208,
   "metadata": {},
   "outputs": [],
   "source": [
    "datos = pd.merge(df_test, zonas, on=\"ID_Zona\", how=\"inner\")\n",
    "X_test = datos._get_numeric_data()\n",
    "y_predicciones = grid.predict(X_test) "
   ]
  },
  {
   "cell_type": "code",
   "execution_count": 230,
   "metadata": {},
   "outputs": [
    {
     "data": {
      "text/plain": [
       "False    827\n",
       "True      58\n",
       "dtype: int64"
      ]
     },
     "execution_count": 230,
     "metadata": {},
     "output_type": "execute_result"
    }
   ],
   "source": [
    "(pd.Series(y_predicciones)).value_counts()"
   ]
  },
  {
   "cell_type": "markdown",
   "metadata": {},
   "source": [
    "*Sale muy similar a la proporción en el dataset de entrenamiento*"
   ]
  },
  {
   "cell_type": "code",
   "execution_count": 215,
   "metadata": {},
   "outputs": [],
   "source": [
    "datos['predicciones'] = y_predicciones"
   ]
  },
  {
   "cell_type": "code",
   "execution_count": 226,
   "metadata": {},
   "outputs": [],
   "source": [
    "#(pd.Series(y_predicciones)).to_csv(\"predicciones.csv\",encoding = 'utf-8-sig')"
   ]
  },
  {
   "cell_type": "code",
   "execution_count": 219,
   "metadata": {},
   "outputs": [],
   "source": [
    "#datos.to_csv(\"test+predicciones.csv\",encoding = 'utf-8-sig')"
   ]
  }
 ],
 "metadata": {
  "kernelspec": {
   "display_name": "Python 3",
   "language": "python",
   "name": "python3"
  },
  "language_info": {
   "codemirror_mode": {
    "name": "ipython",
    "version": 3
   },
   "file_extension": ".py",
   "mimetype": "text/x-python",
   "name": "python",
   "nbconvert_exporter": "python",
   "pygments_lexer": "ipython3",
   "version": "3.8.5"
  }
 },
 "nbformat": 4,
 "nbformat_minor": 2
}
